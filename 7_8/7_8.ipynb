{
 "cells": [
  {
   "cell_type": "code",
   "execution_count": 1,
   "id": "b412c6e9",
   "metadata": {},
   "outputs": [],
   "source": [
    "import pandas as pd\n",
    "import numpy as np\n",
    "import seaborn as sns\n",
    "from sklearn.preprocessing import StandardScaler\n",
    "from sklearn.model_selection import train_test_split\n",
    "from sklearn.metrics import accuracy_score, recall_score, precision_score, f1_score"
   ]
  },
  {
   "cell_type": "code",
   "execution_count": 2,
   "id": "08fc6aec",
   "metadata": {},
   "outputs": [],
   "source": [
    "data_headers = [\"ID\", \"RI\", \"Na\", \"Mg\", \"Al\", \"Si\", \"K\", \"Ca\", \"Ba\", \"Fe\", \"Type\"]\n",
    "data = pd.read_csv('D:\\Документы/УЧЕБА/МАГА/1 семестр/Демидова/3_4/glass.data', names=data_headers)"
   ]
  },
  {
   "cell_type": "code",
   "execution_count": 3,
   "id": "2ecc0ec8",
   "metadata": {},
   "outputs": [
    {
     "data": {
      "text/html": [
       "<div>\n",
       "<style scoped>\n",
       "    .dataframe tbody tr th:only-of-type {\n",
       "        vertical-align: middle;\n",
       "    }\n",
       "\n",
       "    .dataframe tbody tr th {\n",
       "        vertical-align: top;\n",
       "    }\n",
       "\n",
       "    .dataframe thead th {\n",
       "        text-align: right;\n",
       "    }\n",
       "</style>\n",
       "<table border=\"1\" class=\"dataframe\">\n",
       "  <thead>\n",
       "    <tr style=\"text-align: right;\">\n",
       "      <th></th>\n",
       "      <th>ID</th>\n",
       "      <th>RI</th>\n",
       "      <th>Na</th>\n",
       "      <th>Mg</th>\n",
       "      <th>Al</th>\n",
       "      <th>Si</th>\n",
       "      <th>K</th>\n",
       "      <th>Ca</th>\n",
       "      <th>Ba</th>\n",
       "      <th>Fe</th>\n",
       "      <th>Type</th>\n",
       "    </tr>\n",
       "  </thead>\n",
       "  <tbody>\n",
       "    <tr>\n",
       "      <th>0</th>\n",
       "      <td>1</td>\n",
       "      <td>1.52101</td>\n",
       "      <td>13.64</td>\n",
       "      <td>4.49</td>\n",
       "      <td>1.10</td>\n",
       "      <td>71.78</td>\n",
       "      <td>0.06</td>\n",
       "      <td>8.75</td>\n",
       "      <td>0.0</td>\n",
       "      <td>0.0</td>\n",
       "      <td>1</td>\n",
       "    </tr>\n",
       "    <tr>\n",
       "      <th>1</th>\n",
       "      <td>2</td>\n",
       "      <td>1.51761</td>\n",
       "      <td>13.89</td>\n",
       "      <td>3.60</td>\n",
       "      <td>1.36</td>\n",
       "      <td>72.73</td>\n",
       "      <td>0.48</td>\n",
       "      <td>7.83</td>\n",
       "      <td>0.0</td>\n",
       "      <td>0.0</td>\n",
       "      <td>1</td>\n",
       "    </tr>\n",
       "    <tr>\n",
       "      <th>2</th>\n",
       "      <td>3</td>\n",
       "      <td>1.51618</td>\n",
       "      <td>13.53</td>\n",
       "      <td>3.55</td>\n",
       "      <td>1.54</td>\n",
       "      <td>72.99</td>\n",
       "      <td>0.39</td>\n",
       "      <td>7.78</td>\n",
       "      <td>0.0</td>\n",
       "      <td>0.0</td>\n",
       "      <td>1</td>\n",
       "    </tr>\n",
       "    <tr>\n",
       "      <th>3</th>\n",
       "      <td>4</td>\n",
       "      <td>1.51766</td>\n",
       "      <td>13.21</td>\n",
       "      <td>3.69</td>\n",
       "      <td>1.29</td>\n",
       "      <td>72.61</td>\n",
       "      <td>0.57</td>\n",
       "      <td>8.22</td>\n",
       "      <td>0.0</td>\n",
       "      <td>0.0</td>\n",
       "      <td>1</td>\n",
       "    </tr>\n",
       "    <tr>\n",
       "      <th>4</th>\n",
       "      <td>5</td>\n",
       "      <td>1.51742</td>\n",
       "      <td>13.27</td>\n",
       "      <td>3.62</td>\n",
       "      <td>1.24</td>\n",
       "      <td>73.08</td>\n",
       "      <td>0.55</td>\n",
       "      <td>8.07</td>\n",
       "      <td>0.0</td>\n",
       "      <td>0.0</td>\n",
       "      <td>1</td>\n",
       "    </tr>\n",
       "  </tbody>\n",
       "</table>\n",
       "</div>"
      ],
      "text/plain": [
       "   ID       RI     Na    Mg    Al     Si     K    Ca   Ba   Fe  Type\n",
       "0   1  1.52101  13.64  4.49  1.10  71.78  0.06  8.75  0.0  0.0     1\n",
       "1   2  1.51761  13.89  3.60  1.36  72.73  0.48  7.83  0.0  0.0     1\n",
       "2   3  1.51618  13.53  3.55  1.54  72.99  0.39  7.78  0.0  0.0     1\n",
       "3   4  1.51766  13.21  3.69  1.29  72.61  0.57  8.22  0.0  0.0     1\n",
       "4   5  1.51742  13.27  3.62  1.24  73.08  0.55  8.07  0.0  0.0     1"
      ]
     },
     "execution_count": 3,
     "metadata": {},
     "output_type": "execute_result"
    }
   ],
   "source": [
    "data.head()"
   ]
  },
  {
   "cell_type": "code",
   "execution_count": 4,
   "id": "4ff391f5",
   "metadata": {},
   "outputs": [],
   "source": [
    "ss = StandardScaler()\n",
    "data_x = data.iloc[:,1:-1]\n",
    "data_x = ss.fit_transform(data_x)\n",
    "data_y = data.iloc[:,-1:]"
   ]
  },
  {
   "cell_type": "code",
   "execution_count": 5,
   "id": "2b0077ca",
   "metadata": {},
   "outputs": [],
   "source": [
    "from imblearn.over_sampling import SMOTE"
   ]
  },
  {
   "cell_type": "code",
   "execution_count": 6,
   "id": "1a5779c2",
   "metadata": {},
   "outputs": [],
   "source": [
    "sm = SMOTE ()"
   ]
  },
  {
   "cell_type": "code",
   "execution_count": 7,
   "id": "e9b14b89",
   "metadata": {},
   "outputs": [],
   "source": [
    "data_x, data_y = sm.fit_resample(data_x, data_y)"
   ]
  },
  {
   "cell_type": "code",
   "execution_count": 8,
   "id": "509f55b2",
   "metadata": {},
   "outputs": [],
   "source": [
    "X_train, X_test, y_train, y_test = train_test_split(ss.fit_transform(data.iloc[:,1:-1]), \n",
    "                                                    data.iloc[:,-1],\n",
    "                                                    test_size=0.3,\n",
    "                                                    shuffle=True,\n",
    "                                                    stratify=data.iloc[:,-1],\n",
    "                                                    random_state=322)"
   ]
  },
  {
   "cell_type": "code",
   "execution_count": 9,
   "id": "9d83990b",
   "metadata": {},
   "outputs": [],
   "source": [
    "X_train_res, X_test_res, y_train_res, y_test_res = train_test_split(data_x,\n",
    "                                                                    data_y,\n",
    "                                                                    test_size=0.3,\n",
    "                                                                    shuffle=True,\n",
    "                                                                    stratify=data_y,\n",
    "                                                                    random_state=322)"
   ]
  },
  {
   "cell_type": "markdown",
   "id": "998a1d8d",
   "metadata": {},
   "source": [
    "# SVM классификатор"
   ]
  },
  {
   "cell_type": "markdown",
   "id": "850dafe3",
   "metadata": {},
   "source": [
    "## До балансировки"
   ]
  },
  {
   "cell_type": "code",
   "execution_count": 10,
   "id": "ac95b5df",
   "metadata": {},
   "outputs": [],
   "source": [
    "from sklearn.svm import SVC\n",
    "import time"
   ]
  },
  {
   "cell_type": "code",
   "execution_count": 11,
   "id": "e4ce098d",
   "metadata": {},
   "outputs": [],
   "source": [
    "svm = SVC()"
   ]
  },
  {
   "cell_type": "code",
   "execution_count": 12,
   "id": "4725fece",
   "metadata": {},
   "outputs": [
    {
     "name": "stdout",
     "output_type": "stream",
     "text": [
      "0.0014884471893310547\n"
     ]
    }
   ],
   "source": [
    "t_1 = time.time()\n",
    "svm.fit(X_train, y_train)\n",
    "t_2 = time.time()\n",
    "time_svm = t_2-t_1\n",
    "print(time_svm)"
   ]
  },
  {
   "cell_type": "code",
   "execution_count": 13,
   "id": "f02e6df5",
   "metadata": {},
   "outputs": [],
   "source": [
    "y_train_pred = svm.predict(X_train)\n",
    "y_test_pred = svm.predict(X_test)"
   ]
  },
  {
   "cell_type": "markdown",
   "id": "99c96cf2",
   "metadata": {},
   "source": [
    "### Тренировочная выборка"
   ]
  },
  {
   "cell_type": "code",
   "execution_count": 14,
   "id": "5537853f",
   "metadata": {},
   "outputs": [
    {
     "name": "stdout",
     "output_type": "stream",
     "text": [
      "Accuracy: 0.7919463087248322\n",
      "Recall: 0.7919463087248322\n",
      "Precision: 0.7615437694296755\n"
     ]
    }
   ],
   "source": [
    "svm_accuracy_train = accuracy_score(y_train, y_train_pred)\n",
    "print(\"Accuracy: {}\".format(accuracy_score(y_train, y_train_pred)))\n",
    "print(\"Recall: {}\".format(recall_score(y_train, y_train_pred, average='weighted')))\n",
    "print(\"Precision: {}\".format(f1_score(y_train, y_train_pred, average='weighted')))"
   ]
  },
  {
   "cell_type": "markdown",
   "id": "dd1bc9ad",
   "metadata": {},
   "source": [
    "### Тестовая выборка"
   ]
  },
  {
   "cell_type": "code",
   "execution_count": 15,
   "id": "952f216a",
   "metadata": {},
   "outputs": [
    {
     "name": "stdout",
     "output_type": "stream",
     "text": [
      "Accuracy: 0.7538461538461538\n",
      "Recall: 0.7538461538461538\n",
      "Precision: 0.722684766214178\n"
     ]
    }
   ],
   "source": [
    "svm_accuracy_test = accuracy_score(y_test, y_test_pred)\n",
    "print(\"Accuracy: {}\".format(accuracy_score(y_test, y_test_pred)))\n",
    "print(\"Recall: {}\".format(recall_score(y_test, y_test_pred, average='weighted')))\n",
    "print(\"Precision: {}\".format(f1_score(y_test, y_test_pred, average='weighted')))"
   ]
  },
  {
   "cell_type": "markdown",
   "id": "c272c787",
   "metadata": {},
   "source": [
    "## После балансировки"
   ]
  },
  {
   "cell_type": "code",
   "execution_count": 16,
   "id": "9d60cc88",
   "metadata": {},
   "outputs": [
    {
     "name": "stderr",
     "output_type": "stream",
     "text": [
      "C:\\Users\\shars\\anaconda3\\envs\\demidova\\lib\\site-packages\\sklearn\\utils\\validation.py:985: DataConversionWarning: A column-vector y was passed when a 1d array was expected. Please change the shape of y to (n_samples, ), for example using ravel().\n",
      "  y = column_or_1d(y, warn=True)\n"
     ]
    },
    {
     "data": {
      "text/plain": [
       "SVC()"
      ]
     },
     "execution_count": 16,
     "metadata": {},
     "output_type": "execute_result"
    }
   ],
   "source": [
    "svm.fit(X_train_res, y_train_res)"
   ]
  },
  {
   "cell_type": "code",
   "execution_count": 17,
   "id": "c330f16f",
   "metadata": {},
   "outputs": [],
   "source": [
    "y_train_res_pred = svm.predict(X_train_res)\n",
    "y_test_res_pred = svm.predict(X_test_res)"
   ]
  },
  {
   "cell_type": "markdown",
   "id": "20a6c4ff",
   "metadata": {},
   "source": [
    "### Тренировочная выборка"
   ]
  },
  {
   "cell_type": "code",
   "execution_count": 18,
   "id": "5438659c",
   "metadata": {},
   "outputs": [
    {
     "name": "stdout",
     "output_type": "stream",
     "text": [
      "Accuracy: 0.8808777429467085\n",
      "Recall: 0.8808777429467085\n",
      "Precision: 0.8797287499013101\n"
     ]
    }
   ],
   "source": [
    "svm_accuracy_train_res = accuracy_score(y_train_res, y_train_res_pred)\n",
    "print(\"Accuracy: {}\".format(accuracy_score(y_train_res, y_train_res_pred)))\n",
    "print(\"Recall: {}\".format(recall_score(y_train_res, y_train_res_pred, average='weighted')))\n",
    "print(\"Precision: {}\".format(f1_score(y_train_res, y_train_res_pred, average='weighted')))"
   ]
  },
  {
   "cell_type": "markdown",
   "id": "6db81c04",
   "metadata": {},
   "source": [
    "### Тестовая выборка"
   ]
  },
  {
   "cell_type": "code",
   "execution_count": 19,
   "id": "02b73be2",
   "metadata": {},
   "outputs": [
    {
     "name": "stdout",
     "output_type": "stream",
     "text": [
      "Accuracy: 0.8394160583941606\n",
      "Recall: 0.8394160583941606\n",
      "Precision: 0.8327471798274718\n"
     ]
    }
   ],
   "source": [
    "svm_accuracy_test_res = accuracy_score(y_test_res, y_test_res_pred)\n",
    "print(\"Accuracy: {}\".format(accuracy_score(y_test_res, y_test_res_pred)))\n",
    "print(\"Recall: {}\".format(recall_score(y_test_res, y_test_res_pred, average='weighted')))\n",
    "print(\"Precision: {}\".format(f1_score(y_test_res, y_test_res_pred, average='weighted')))"
   ]
  },
  {
   "cell_type": "markdown",
   "id": "aa02ae13",
   "metadata": {},
   "source": [
    "## Сравнение до балансировки и после"
   ]
  },
  {
   "cell_type": "code",
   "execution_count": 20,
   "id": "5d6c30e6",
   "metadata": {},
   "outputs": [],
   "source": [
    "import matplotlib.pyplot as plt"
   ]
  },
  {
   "cell_type": "code",
   "execution_count": 21,
   "id": "6af08ab4",
   "metadata": {},
   "outputs": [
    {
     "data": {
      "text/plain": [
       "<BarContainer object of 4 artists>"
      ]
     },
     "execution_count": 21,
     "metadata": {},
     "output_type": "execute_result"
    },
    {
     "data": {
      "image/png": "[encoded data removed]",
      "text/plain": [
       "<Figure size 432x288 with 1 Axes>"
      ]
     },
     "metadata": {
      "needs_background": "light"
     },
     "output_type": "display_data"
    }
   ],
   "source": [
    "compare_data = [svm_accuracy_train, svm_accuracy_train_res, svm_accuracy_test, svm_accuracy_test_res]\n",
    "axis = ['Train', 'Balanced Train', 'Test', 'Balanced Test']\n",
    "plt.title(\"Accuracy\")\n",
    "plt.bar(axis, compare_data, color=['red', 'green', 'red', 'green'])"
   ]
  },
  {
   "cell_type": "markdown",
   "id": "0dd5ca22",
   "metadata": {},
   "source": [
    "# KNN классификатор"
   ]
  },
  {
   "cell_type": "code",
   "execution_count": 22,
   "id": "a424ec26",
   "metadata": {},
   "outputs": [],
   "source": [
    "from sklearn.neighbors import KNeighborsClassifier"
   ]
  },
  {
   "cell_type": "code",
   "execution_count": 23,
   "id": "c969bbc0",
   "metadata": {},
   "outputs": [],
   "source": [
    "knn = KNeighborsClassifier()"
   ]
  },
  {
   "cell_type": "markdown",
   "id": "986f196e",
   "metadata": {},
   "source": [
    "## Данные до балансировки"
   ]
  },
  {
   "cell_type": "code",
   "execution_count": 24,
   "id": "8c5952e6",
   "metadata": {},
   "outputs": [
    {
     "name": "stdout",
     "output_type": "stream",
     "text": [
      "0.0004951953887939453\n"
     ]
    }
   ],
   "source": [
    "t_1 = time.time()\n",
    "knn.fit(X_train, y_train)\n",
    "t_2 = time.time()\n",
    "time_knn = t_2-t_1\n",
    "print(time_knn)"
   ]
  },
  {
   "cell_type": "code",
   "execution_count": 25,
   "id": "fa7de50e",
   "metadata": {},
   "outputs": [],
   "source": [
    "y_train_pred = knn.predict(X_train)\n",
    "y_test_pred = knn.predict(X_test)"
   ]
  },
  {
   "cell_type": "markdown",
   "id": "9a54f599",
   "metadata": {},
   "source": [
    "### Тренировочная выборка "
   ]
  },
  {
   "cell_type": "code",
   "execution_count": 26,
   "id": "b2954fe9",
   "metadata": {},
   "outputs": [
    {
     "name": "stdout",
     "output_type": "stream",
     "text": [
      "Accuracy: 0.7583892617449665\n",
      "Recall: 0.7583892617449665\n",
      "Precision: 0.7244510734443621\n"
     ]
    }
   ],
   "source": [
    "knn_accuracy_train = accuracy_score(y_train, y_train_pred)\n",
    "print(\"Accuracy: {}\".format(accuracy_score(y_train, y_train_pred)))\n",
    "print(\"Recall: {}\".format(recall_score(y_train, y_train_pred, average='weighted')))\n",
    "print(\"Precision: {}\".format(f1_score(y_train, y_train_pred, average='weighted')))"
   ]
  },
  {
   "cell_type": "markdown",
   "id": "5f98d3f3",
   "metadata": {},
   "source": [
    "### Тестовая выборка"
   ]
  },
  {
   "cell_type": "code",
   "execution_count": 27,
   "id": "8ae8852b",
   "metadata": {},
   "outputs": [
    {
     "name": "stdout",
     "output_type": "stream",
     "text": [
      "Accuracy: 0.6461538461538462\n",
      "Recall: 0.6461538461538462\n",
      "Precision: 0.6263149762719347\n"
     ]
    }
   ],
   "source": [
    "knn_accuracy_test = accuracy_score(y_test, y_test_pred)\n",
    "print(\"Accuracy: {}\".format(accuracy_score(y_test, y_test_pred)))\n",
    "print(\"Recall: {}\".format(recall_score(y_test, y_test_pred, average='weighted')))\n",
    "print(\"Precision: {}\".format(f1_score(y_test, y_test_pred, average='weighted')))"
   ]
  },
  {
   "cell_type": "markdown",
   "id": "c78ff2cd",
   "metadata": {},
   "source": [
    "## После балансировки"
   ]
  },
  {
   "cell_type": "code",
   "execution_count": 28,
   "id": "a6292452",
   "metadata": {},
   "outputs": [
    {
     "name": "stderr",
     "output_type": "stream",
     "text": [
      "C:\\Users\\shars\\anaconda3\\envs\\demidova\\lib\\site-packages\\sklearn\\neighbors\\_classification.py:198: DataConversionWarning: A column-vector y was passed when a 1d array was expected. Please change the shape of y to (n_samples,), for example using ravel().\n",
      "  return self._fit(X, y)\n"
     ]
    },
    {
     "data": {
      "text/plain": [
       "KNeighborsClassifier()"
      ]
     },
     "execution_count": 28,
     "metadata": {},
     "output_type": "execute_result"
    }
   ],
   "source": [
    "knn.fit(X_train_res, y_train_res)"
   ]
  },
  {
   "cell_type": "code",
   "execution_count": 29,
   "id": "2c1a6347",
   "metadata": {},
   "outputs": [],
   "source": [
    "y_train_res_pred = knn.predict(X_train_res)\n",
    "y_test_res_pred = knn.predict(X_test_res)"
   ]
  },
  {
   "cell_type": "markdown",
   "id": "50e03fae",
   "metadata": {},
   "source": [
    "### Тренировочная выборка "
   ]
  },
  {
   "cell_type": "code",
   "execution_count": 30,
   "id": "df0b829d",
   "metadata": {},
   "outputs": [
    {
     "name": "stdout",
     "output_type": "stream",
     "text": [
      "Accuracy: 0.8683385579937304\n",
      "Recall: 0.8683385579937304\n",
      "Precision: 0.8660419076030614\n"
     ]
    }
   ],
   "source": [
    "knn_accuracy_train_res = accuracy_score(y_train_res, y_train_res_pred)\n",
    "print(\"Accuracy: {}\".format(accuracy_score(y_train_res, y_train_res_pred)))\n",
    "print(\"Recall: {}\".format(recall_score(y_train_res, y_train_res_pred, average='weighted')))\n",
    "print(\"Precision: {}\".format(f1_score(y_train_res, y_train_res_pred, average='weighted')))"
   ]
  },
  {
   "cell_type": "markdown",
   "id": "bc5bcc95",
   "metadata": {},
   "source": [
    "### Тестовая выборка"
   ]
  },
  {
   "cell_type": "code",
   "execution_count": 31,
   "id": "26d41d17",
   "metadata": {},
   "outputs": [
    {
     "name": "stdout",
     "output_type": "stream",
     "text": [
      "Accuracy: 0.8394160583941606\n",
      "Recall: 0.8394160583941606\n",
      "Precision: 0.8315597915036529\n"
     ]
    }
   ],
   "source": [
    "knn_accuracy_test_res = accuracy_score(y_test_res, y_test_res_pred)\n",
    "print(\"Accuracy: {}\".format(accuracy_score(y_test_res, y_test_res_pred)))\n",
    "print(\"Recall: {}\".format(recall_score(y_test_res, y_test_res_pred, average='weighted')))\n",
    "print(\"Precision: {}\".format(f1_score(y_test_res, y_test_res_pred, average='weighted')))"
   ]
  },
  {
   "cell_type": "markdown",
   "id": "1a5f4db9",
   "metadata": {},
   "source": [
    "## Сравнение до балансировки и после"
   ]
  },
  {
   "cell_type": "code",
   "execution_count": 32,
   "id": "78929da4",
   "metadata": {},
   "outputs": [
    {
     "data": {
      "text/plain": [
       "<BarContainer object of 4 artists>"
      ]
     },
     "execution_count": 32,
     "metadata": {},
     "output_type": "execute_result"
    },
    {
     "data": {
      "image/png": "[encoded data removed]",
      "text/plain": [
       "<Figure size 432x288 with 1 Axes>"
      ]
     },
     "metadata": {
      "needs_background": "light"
     },
     "output_type": "display_data"
    }
   ],
   "source": [
    "compare_data = [knn_accuracy_train, knn_accuracy_train_res, knn_accuracy_test, knn_accuracy_test_res]\n",
    "axis = ['Train', 'Balanced Train', 'Test', 'Balanced Test']\n",
    "plt.title(\"Accuracy\")\n",
    "plt.bar(axis, compare_data,color=['red', 'green', 'red', 'green'])"
   ]
  },
  {
   "cell_type": "markdown",
   "id": "85874126",
   "metadata": {},
   "source": [
    "# RF классификатор"
   ]
  },
  {
   "cell_type": "code",
   "execution_count": 33,
   "id": "0f2b4e0c",
   "metadata": {},
   "outputs": [],
   "source": [
    "from sklearn.ensemble import RandomForestClassifier"
   ]
  },
  {
   "cell_type": "code",
   "execution_count": 34,
   "id": "a5f3f38f",
   "metadata": {},
   "outputs": [],
   "source": [
    "rf = RandomForestClassifier()"
   ]
  },
  {
   "cell_type": "markdown",
   "id": "0e5e42cb",
   "metadata": {},
   "source": [
    "## До балансировки"
   ]
  },
  {
   "cell_type": "code",
   "execution_count": 35,
   "id": "aab866ee",
   "metadata": {},
   "outputs": [],
   "source": [
    "t_1 = time.time()\n",
    "rf.fit(X_train, y_train)\n",
    "t_2 = time.time()\n",
    "time_rf = t_2-t_1"
   ]
  },
  {
   "cell_type": "code",
   "execution_count": 36,
   "id": "2b2477b9",
   "metadata": {},
   "outputs": [],
   "source": [
    "y_train_pred = knn.predict(X_train)\n",
    "y_test_pred = knn.predict(X_test)"
   ]
  },
  {
   "cell_type": "markdown",
   "id": "aed8f8e4",
   "metadata": {},
   "source": [
    "### Обучающая выборка"
   ]
  },
  {
   "cell_type": "code",
   "execution_count": 37,
   "id": "63801721",
   "metadata": {},
   "outputs": [
    {
     "name": "stdout",
     "output_type": "stream",
     "text": [
      "Accuracy: 0.7718120805369127\n",
      "Recall: 0.7718120805369127\n",
      "Precision: 0.776189605670653\n"
     ]
    }
   ],
   "source": [
    "rf_accuracy_train = accuracy_score(y_train, y_train_pred)\n",
    "print(\"Accuracy: {}\".format(accuracy_score(y_train, y_train_pred)))\n",
    "print(\"Recall: {}\".format(recall_score(y_train, y_train_pred, average='weighted')))\n",
    "print(\"Precision: {}\".format(f1_score(y_train, y_train_pred, average='weighted')))"
   ]
  },
  {
   "cell_type": "markdown",
   "id": "e9ac1281",
   "metadata": {},
   "source": [
    "### Тестовая выборка"
   ]
  },
  {
   "cell_type": "code",
   "execution_count": 38,
   "id": "e16df18a",
   "metadata": {},
   "outputs": [
    {
     "name": "stdout",
     "output_type": "stream",
     "text": [
      "Accuracy: 0.7076923076923077\n",
      "Recall: 0.7076923076923077\n",
      "Precision: 0.7157014653594681\n"
     ]
    }
   ],
   "source": [
    "rf_accuracy_test = accuracy_score(y_test, y_test_pred)\n",
    "print(\"Accuracy: {}\".format(accuracy_score(y_test, y_test_pred)))\n",
    "print(\"Recall: {}\".format(recall_score(y_test, y_test_pred, average='weighted')))\n",
    "print(\"Precision: {}\".format(f1_score(y_test, y_test_pred, average='weighted')))"
   ]
  },
  {
   "cell_type": "markdown",
   "id": "6fc11f86",
   "metadata": {},
   "source": [
    "## После балансировки"
   ]
  },
  {
   "cell_type": "code",
   "execution_count": 39,
   "id": "4b1c3854",
   "metadata": {},
   "outputs": [
    {
     "name": "stderr",
     "output_type": "stream",
     "text": [
      "C:\\Users\\shars\\AppData\\Local\\Temp/ipykernel_21372/687080805.py:1: DataConversionWarning: A column-vector y was passed when a 1d array was expected. Please change the shape of y to (n_samples,), for example using ravel().\n",
      "  rf.fit(X_train_res, y_train_res)\n"
     ]
    },
    {
     "data": {
      "text/plain": [
       "RandomForestClassifier()"
      ]
     },
     "execution_count": 39,
     "metadata": {},
     "output_type": "execute_result"
    }
   ],
   "source": [
    "rf.fit(X_train_res, y_train_res)"
   ]
  },
  {
   "cell_type": "markdown",
   "id": "093b3781",
   "metadata": {},
   "source": [
    "### Обучающая выборка"
   ]
  },
  {
   "cell_type": "code",
   "execution_count": 40,
   "id": "ac1f2295",
   "metadata": {},
   "outputs": [
    {
     "name": "stdout",
     "output_type": "stream",
     "text": [
      "Accuracy: 0.8683385579937304\n",
      "Recall: 0.8683385579937304\n",
      "Precision: 0.8660419076030614\n"
     ]
    }
   ],
   "source": [
    "rf_accuracy_train_res = accuracy_score(y_train_res, y_train_res_pred)\n",
    "print(\"Accuracy: {}\".format(accuracy_score(y_train_res, y_train_res_pred)))\n",
    "print(\"Recall: {}\".format(recall_score(y_train_res, y_train_res_pred, average='weighted')))\n",
    "print(\"Precision: {}\".format(f1_score(y_train_res, y_train_res_pred, average='weighted')))"
   ]
  },
  {
   "cell_type": "markdown",
   "id": "cfe9d982",
   "metadata": {},
   "source": [
    "### Тестовая выборка"
   ]
  },
  {
   "cell_type": "code",
   "execution_count": 41,
   "id": "60380a89",
   "metadata": {},
   "outputs": [
    {
     "name": "stdout",
     "output_type": "stream",
     "text": [
      "Accuracy: 0.8394160583941606\n",
      "Recall: 0.8394160583941606\n",
      "Precision: 0.8315597915036529\n"
     ]
    }
   ],
   "source": [
    "rf_accuracy_test_res = accuracy_score(y_test_res, y_test_res_pred)\n",
    "print(\"Accuracy: {}\".format(accuracy_score(y_test_res, y_test_res_pred)))\n",
    "print(\"Recall: {}\".format(recall_score(y_test_res, y_test_res_pred, average='weighted')))\n",
    "print(\"Precision: {}\".format(f1_score(y_test_res, y_test_res_pred, average='weighted')))"
   ]
  },
  {
   "cell_type": "markdown",
   "id": "83bd88e9",
   "metadata": {},
   "source": [
    "## Сравнение до балансировки и после"
   ]
  },
  {
   "cell_type": "code",
   "execution_count": 42,
   "id": "4fe4a003",
   "metadata": {},
   "outputs": [
    {
     "data": {
      "text/plain": [
       "<BarContainer object of 4 artists>"
      ]
     },
     "execution_count": 42,
     "metadata": {},
     "output_type": "execute_result"
    },
    {
     "data": {
      "image/png": "[encoded data removed]",
      "text/plain": [
       "<Figure size 432x288 with 1 Axes>"
      ]
     },
     "metadata": {
      "needs_background": "light"
     },
     "output_type": "display_data"
    }
   ],
   "source": [
    "compare_data = [rf_accuracy_train, rf_accuracy_train_res, rf_accuracy_test, rf_accuracy_test_res]\n",
    "axis = ['Train', 'Balanced Train', 'Test', 'Balanced Test']\n",
    "plt.title(\"Accuracy\")\n",
    "plt.bar(axis, compare_data,color=['red', 'green', 'red', 'green'])"
   ]
  },
  {
   "cell_type": "code",
   "execution_count": null,
   "id": "2c9be043",
   "metadata": {},
   "outputs": [],
   "source": []
  },
  {
   "cell_type": "markdown",
   "id": "ebfd528b",
   "metadata": {},
   "source": [
    "## Визуализация данных"
   ]
  },
  {
   "cell_type": "code",
   "execution_count": 43,
   "id": "e25095f7",
   "metadata": {},
   "outputs": [],
   "source": [
    "from sklearn.manifold import TSNE\n",
    "import seaborn as sns"
   ]
  },
  {
   "cell_type": "markdown",
   "id": "119c8ad3",
   "metadata": {},
   "source": [
    "### Данные до балансировки"
   ]
  },
  {
   "cell_type": "code",
   "execution_count": 44,
   "id": "7b56046b",
   "metadata": {},
   "outputs": [
    {
     "name": "stderr",
     "output_type": "stream",
     "text": [
      "C:\\Users\\shars\\anaconda3\\envs\\demidova\\lib\\site-packages\\sklearn\\manifold\\_t_sne.py:790: FutureWarning: The default learning rate in TSNE will change from 200.0 to 'auto' in 1.2.\n",
      "  warnings.warn(\n"
     ]
    }
   ],
   "source": [
    "tsne = TSNE(init='random', perplexity=10).fit_transform(data.iloc[:,1:-1])"
   ]
  },
  {
   "cell_type": "code",
   "execution_count": 45,
   "id": "0808c33f",
   "metadata": {},
   "outputs": [],
   "source": [
    "df = pd.DataFrame()\n",
    "df[\"y\"] = data.iloc[:,-1]\n",
    "df[\"comp-1\"] = tsne[:,0]\n",
    "df[\"comp-2\"] = tsne[:,1]"
   ]
  },
  {
   "cell_type": "code",
   "execution_count": 46,
   "id": "3afc9ad9",
   "metadata": {},
   "outputs": [
    {
     "data": {
      "text/plain": [
       "[Text(0.5, 1.0, 'Data T-SNE projection')]"
      ]
     },
     "execution_count": 46,
     "metadata": {},
     "output_type": "execute_result"
    },
    {
     "data": {
      "image/png": "[encoded data removed]",
      "text/plain": [
       "<Figure size 432x288 with 1 Axes>"
      ]
     },
     "metadata": {
      "needs_background": "light"
     },
     "output_type": "display_data"
    }
   ],
   "source": [
    "sns.scatterplot(x=\"comp-1\", y=\"comp-2\", hue=df.y.tolist(),\n",
    "                palette=sns.color_palette(\"hls\", 6),\n",
    "                data=df).set(title=\"Data T-SNE projection\") "
   ]
  },
  {
   "cell_type": "markdown",
   "id": "55cdbc2e",
   "metadata": {},
   "source": [
    "### Данные после балансировки"
   ]
  },
  {
   "cell_type": "code",
   "execution_count": 47,
   "id": "0c583654",
   "metadata": {},
   "outputs": [
    {
     "name": "stderr",
     "output_type": "stream",
     "text": [
      "C:\\Users\\shars\\anaconda3\\envs\\demidova\\lib\\site-packages\\sklearn\\manifold\\_t_sne.py:790: FutureWarning: The default learning rate in TSNE will change from 200.0 to 'auto' in 1.2.\n",
      "  warnings.warn(\n"
     ]
    }
   ],
   "source": [
    "tsne_res = TSNE(init='random', perplexity=10).fit_transform(data_x)"
   ]
  },
  {
   "cell_type": "code",
   "execution_count": 48,
   "id": "477f6147",
   "metadata": {},
   "outputs": [],
   "source": [
    "df_res = pd.DataFrame()\n",
    "df_res['y'] = data_y\n",
    "df_res[\"comp-1\"] = tsne_res[:,0]\n",
    "df_res[\"comp-2\"] = tsne_res[:,1]"
   ]
  },
  {
   "cell_type": "code",
   "execution_count": 49,
   "id": "865541dc",
   "metadata": {},
   "outputs": [
    {
     "data": {
      "text/plain": [
       "[Text(0.5, 1.0, 'Data T-SNE projection')]"
      ]
     },
     "execution_count": 49,
     "metadata": {},
     "output_type": "execute_result"
    },
    {
     "data": {
      "image/png": "[encoded data removed]",
      "text/plain": [
       "<Figure size 432x288 with 1 Axes>"
      ]
     },
     "metadata": {
      "needs_background": "light"
     },
     "output_type": "display_data"
    }
   ],
   "source": [
    "sns.scatterplot(x=\"comp-1\", y=\"comp-2\", hue=df_res.y.tolist(),\n",
    "                palette=sns.color_palette(\"hls\", 6),\n",
    "                data=df_res).set(title=\"Data T-SNE projection\") "
   ]
  },
  {
   "cell_type": "markdown",
   "id": "ee7f1f4c",
   "metadata": {},
   "source": [
    "# Сравнение классификаторов"
   ]
  },
  {
   "cell_type": "markdown",
   "id": "a02049bb",
   "metadata": {},
   "source": [
    "## По времени"
   ]
  },
  {
   "cell_type": "code",
   "execution_count": 50,
   "id": "92fc38b8",
   "metadata": {},
   "outputs": [
    {
     "name": "stdout",
     "output_type": "stream",
     "text": [
      "Elapsed time in seconds\n",
      "SVM: 0.0014884471893310547\n",
      "KNN: 0.0004951953887939453\n",
      "RF: 0.09027385711669922\n"
     ]
    },
    {
     "data": {
      "image/png": "[encoded data removed]",
      "text/plain": [
       "<Figure size 432x288 with 1 Axes>"
      ]
     },
     "metadata": {
      "needs_background": "light"
     },
     "output_type": "display_data"
    }
   ],
   "source": [
    "time_data = [time_svm, time_knn, time_rf]\n",
    "axis = ['SVM', 'KNN', 'RF']\n",
    "plt.bar(axis, time_data)\n",
    "print(\"Elapsed time in seconds\\nSVM: {}\\nKNN: {}\\nRF: {}\".format(time_svm, time_knn, time_rf))"
   ]
  },
  {
   "cell_type": "markdown",
   "id": "9c786e7b",
   "metadata": {},
   "source": [
    "## По точности"
   ]
  },
  {
   "cell_type": "markdown",
   "id": "61ce1e05",
   "metadata": {},
   "source": [
    "### На тренировочной выборке"
   ]
  },
  {
   "cell_type": "code",
   "execution_count": 51,
   "id": "0b68c614",
   "metadata": {},
   "outputs": [
    {
     "name": "stdout",
     "output_type": "stream",
     "text": [
      "Train accuracy\n",
      "SVM: 0.7919463087248322\n",
      "KNN: 0.7583892617449665\n",
      "RF: 0.7718120805369127\n"
     ]
    },
    {
     "data": {
      "image/png": "[encoded data removed]",
      "text/plain": [
       "<Figure size 432x288 with 1 Axes>"
      ]
     },
     "metadata": {
      "needs_background": "light"
     },
     "output_type": "display_data"
    }
   ],
   "source": [
    "accuracy_data = [svm_accuracy_train, knn_accuracy_train, rf_accuracy_train]\n",
    "axis = ['SVM', 'KNN', 'RF']\n",
    "plt.bar(axis, accuracy_data)\n",
    "print(\"Train accuracy\\nSVM: {}\\nKNN: {}\\nRF: {}\".format(svm_accuracy_train, knn_accuracy_train, rf_accuracy_train))"
   ]
  },
  {
   "cell_type": "markdown",
   "id": "fc8c0605",
   "metadata": {},
   "source": [
    "### На тестовой выборке"
   ]
  },
  {
   "cell_type": "code",
   "execution_count": 52,
   "id": "d8fd7dd9",
   "metadata": {},
   "outputs": [
    {
     "name": "stdout",
     "output_type": "stream",
     "text": [
      "Test accuracy\n",
      "SVM: 0.7538461538461538\n",
      "KNN: 0.6461538461538462\n",
      "RF: 0.7076923076923077\n"
     ]
    },
    {
     "data": {
      "image/png": "[encoded data removed]",
      "text/plain": [
       "<Figure size 432x288 with 1 Axes>"
      ]
     },
     "metadata": {
      "needs_background": "light"
     },
     "output_type": "display_data"
    }
   ],
   "source": [
    "accuracy_data_test = [svm_accuracy_test, knn_accuracy_test, rf_accuracy_test]\n",
    "axis = ['SVM', 'KNN', 'RF']\n",
    "plt.bar(axis, accuracy_data_test)\n",
    "print(\"Test accuracy\\nSVM: {}\\nKNN: {}\\nRF: {}\".format(svm_accuracy_test, knn_accuracy_test, rf_accuracy_test))"
   ]
  },
  {
   "cell_type": "code",
   "execution_count": null,
   "id": "dd855c78",
   "metadata": {},
   "outputs": [],
   "source": []
  }
 ],
 "metadata": {
  "kernelspec": {
   "display_name": "Python 3 (ipykernel)",
   "language": "python",
   "name": "python3"
  },
  "language_info": {
   "codemirror_mode": {
    "name": "ipython",
    "version": 3
   },
   "file_extension": ".py",
   "mimetype": "text/x-python",
   "name": "python",
   "nbconvert_exporter": "python",
   "pygments_lexer": "ipython3",
   "version": "3.8.11"
  }
 },
 "nbformat": 4,
 "nbformat_minor": 5
}
