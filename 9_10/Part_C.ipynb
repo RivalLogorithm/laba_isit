{
 "cells": [
  {
   "cell_type": "code",
   "execution_count": 24,
   "id": "072669f4",
   "metadata": {},
   "outputs": [],
   "source": [
    "import time\n",
    "import pandas as pd\n",
    "import numpy as np\n",
    "import matplotlib.pyplot as plt\n",
    "from sklearn.preprocessing import StandardScaler\n",
    "from sklearn.model_selection import train_test_split"
   ]
  },
  {
   "cell_type": "code",
   "execution_count": 3,
   "id": "c1edbac3",
   "metadata": {},
   "outputs": [],
   "source": [
    "data_headers = [\"ID\", \"RI\", \"Na\", \"Mg\", \"Al\", \"Si\", \"K\", \"Ca\", \"Ba\", \"Fe\", \"Type\"]\n",
    "data = pd.read_csv('E:\\Документы/УЧЕБА/МАГА/1 семестр/Демидова/3_4/glass.data', names=data_headers)"
   ]
  },
  {
   "cell_type": "code",
   "execution_count": 4,
   "id": "c024db06",
   "metadata": {},
   "outputs": [
    {
     "data": {
      "text/html": [
       "<div>\n",
       "<style scoped>\n",
       "    .dataframe tbody tr th:only-of-type {\n",
       "        vertical-align: middle;\n",
       "    }\n",
       "\n",
       "    .dataframe tbody tr th {\n",
       "        vertical-align: top;\n",
       "    }\n",
       "\n",
       "    .dataframe thead th {\n",
       "        text-align: right;\n",
       "    }\n",
       "</style>\n",
       "<table border=\"1\" class=\"dataframe\">\n",
       "  <thead>\n",
       "    <tr style=\"text-align: right;\">\n",
       "      <th></th>\n",
       "      <th>ID</th>\n",
       "      <th>RI</th>\n",
       "      <th>Na</th>\n",
       "      <th>Mg</th>\n",
       "      <th>Al</th>\n",
       "      <th>Si</th>\n",
       "      <th>K</th>\n",
       "      <th>Ca</th>\n",
       "      <th>Ba</th>\n",
       "      <th>Fe</th>\n",
       "      <th>Type</th>\n",
       "    </tr>\n",
       "  </thead>\n",
       "  <tbody>\n",
       "    <tr>\n",
       "      <th>0</th>\n",
       "      <td>1</td>\n",
       "      <td>1.52101</td>\n",
       "      <td>13.64</td>\n",
       "      <td>4.49</td>\n",
       "      <td>1.10</td>\n",
       "      <td>71.78</td>\n",
       "      <td>0.06</td>\n",
       "      <td>8.75</td>\n",
       "      <td>0.0</td>\n",
       "      <td>0.0</td>\n",
       "      <td>1</td>\n",
       "    </tr>\n",
       "    <tr>\n",
       "      <th>1</th>\n",
       "      <td>2</td>\n",
       "      <td>1.51761</td>\n",
       "      <td>13.89</td>\n",
       "      <td>3.60</td>\n",
       "      <td>1.36</td>\n",
       "      <td>72.73</td>\n",
       "      <td>0.48</td>\n",
       "      <td>7.83</td>\n",
       "      <td>0.0</td>\n",
       "      <td>0.0</td>\n",
       "      <td>1</td>\n",
       "    </tr>\n",
       "    <tr>\n",
       "      <th>2</th>\n",
       "      <td>3</td>\n",
       "      <td>1.51618</td>\n",
       "      <td>13.53</td>\n",
       "      <td>3.55</td>\n",
       "      <td>1.54</td>\n",
       "      <td>72.99</td>\n",
       "      <td>0.39</td>\n",
       "      <td>7.78</td>\n",
       "      <td>0.0</td>\n",
       "      <td>0.0</td>\n",
       "      <td>1</td>\n",
       "    </tr>\n",
       "    <tr>\n",
       "      <th>3</th>\n",
       "      <td>4</td>\n",
       "      <td>1.51766</td>\n",
       "      <td>13.21</td>\n",
       "      <td>3.69</td>\n",
       "      <td>1.29</td>\n",
       "      <td>72.61</td>\n",
       "      <td>0.57</td>\n",
       "      <td>8.22</td>\n",
       "      <td>0.0</td>\n",
       "      <td>0.0</td>\n",
       "      <td>1</td>\n",
       "    </tr>\n",
       "    <tr>\n",
       "      <th>4</th>\n",
       "      <td>5</td>\n",
       "      <td>1.51742</td>\n",
       "      <td>13.27</td>\n",
       "      <td>3.62</td>\n",
       "      <td>1.24</td>\n",
       "      <td>73.08</td>\n",
       "      <td>0.55</td>\n",
       "      <td>8.07</td>\n",
       "      <td>0.0</td>\n",
       "      <td>0.0</td>\n",
       "      <td>1</td>\n",
       "    </tr>\n",
       "  </tbody>\n",
       "</table>\n",
       "</div>"
      ],
      "text/plain": [
       "   ID       RI     Na    Mg    Al     Si     K    Ca   Ba   Fe  Type\n",
       "0   1  1.52101  13.64  4.49  1.10  71.78  0.06  8.75  0.0  0.0     1\n",
       "1   2  1.51761  13.89  3.60  1.36  72.73  0.48  7.83  0.0  0.0     1\n",
       "2   3  1.51618  13.53  3.55  1.54  72.99  0.39  7.78  0.0  0.0     1\n",
       "3   4  1.51766  13.21  3.69  1.29  72.61  0.57  8.22  0.0  0.0     1\n",
       "4   5  1.51742  13.27  3.62  1.24  73.08  0.55  8.07  0.0  0.0     1"
      ]
     },
     "execution_count": 4,
     "metadata": {},
     "output_type": "execute_result"
    }
   ],
   "source": [
    "data.head()"
   ]
  },
  {
   "cell_type": "code",
   "execution_count": 6,
   "id": "63b7bad6",
   "metadata": {},
   "outputs": [],
   "source": [
    "ss = StandardScaler()"
   ]
  },
  {
   "cell_type": "code",
   "execution_count": 7,
   "id": "ac8c452e",
   "metadata": {},
   "outputs": [],
   "source": [
    "X_train, X_test, y_train, y_test = train_test_split(ss.fit_transform(data.iloc[:,1:-1]), \n",
    "                                                    data.iloc[:,-1],\n",
    "                                                    test_size=0.3,\n",
    "                                                    shuffle=True,\n",
    "                                                    stratify=data.iloc[:,-1],\n",
    "                                                    random_state=322)"
   ]
  },
  {
   "cell_type": "markdown",
   "id": "9f641331",
   "metadata": {},
   "source": [
    "# Поиск оптимальных параметров SVM"
   ]
  },
  {
   "cell_type": "markdown",
   "id": "e25db339",
   "metadata": {},
   "source": [
    "По умолчанию я буду использовать тип ядра **_rbf_**, так как в предыдущих практиках он показывал лучший результат"
   ]
  },
  {
   "cell_type": "markdown",
   "id": "9c8afd22",
   "metadata": {},
   "source": [
    "Так же для поиска наилучших параметров обучения будем использовать **_генетический алгоритм_**, так как он показал себя лучше роя частиц в части B"
   ]
  },
  {
   "cell_type": "code",
   "execution_count": 11,
   "id": "da0e6fc8",
   "metadata": {},
   "outputs": [],
   "source": [
    "from sklearn.svm import SVC\n",
    "from sklearn.metrics import accuracy_score\n",
    "from geneticalgorithm import geneticalgorithm"
   ]
  },
  {
   "cell_type": "code",
   "execution_count": 17,
   "id": "49bd660a",
   "metadata": {},
   "outputs": [],
   "source": [
    "def func(X):\n",
    "    # Обучение модели\n",
    "    svm = SVC(kernel='rbf',\n",
    "              C=X[0], \n",
    "              gamma=X[1]).fit(X_train, y_train)\n",
    "    # Предсказание на тестовых данных\n",
    "    pred = svm.predict(X_test)\n",
    "    accuracy = accuracy_score(y_test, pred)\n",
    "    # Возвращаем значение с минусом для максимизации функции\n",
    "    return -accuracy\n",
    "    "
   ]
  },
  {
   "cell_type": "code",
   "execution_count": 18,
   "id": "565e35b9",
   "metadata": {},
   "outputs": [],
   "source": [
    "varbound = np.array([[1,20], [0.001, 1.0]])"
   ]
  },
  {
   "cell_type": "code",
   "execution_count": 19,
   "id": "9296abe4",
   "metadata": {
    "scrolled": false
   },
   "outputs": [
    {
     "name": "stdout",
     "output_type": "stream",
     "text": [
      " The best solution found:                                                                           \n",
      " [3.73548617 0.04230833]\n",
      "\n",
      " Objective function:\n",
      " -0.7846153846153846\n"
     ]
    },
    {
     "data": {
      "image/png": "[encoded data removed]",
      "text/plain": [
       "<Figure size 432x288 with 1 Axes>"
      ]
     },
     "metadata": {
      "needs_background": "light"
     },
     "output_type": "display_data"
    },
    {
     "name": "stdout",
     "output_type": "stream",
     "text": [
      "Время выполнения 162.13698053359985\n"
     ]
    }
   ],
   "source": [
    "model = geneticalgorithm(function=func, \n",
    "                         dimension=2, \n",
    "                         variable_type='real',\n",
    "                         variable_boundaries=varbound)\n",
    "time_start = time.time()\n",
    "model.run()\n",
    "time_end = time.time()\n",
    "print('Время выполнения {}'.format(time_end-time_start))"
   ]
  },
  {
   "cell_type": "code",
   "execution_count": 20,
   "id": "7eb12be6",
   "metadata": {},
   "outputs": [],
   "source": [
    "svm_default = SVC(kernel='rbf').fit(X_train, y_train)"
   ]
  },
  {
   "cell_type": "code",
   "execution_count": 22,
   "id": "3b15424f",
   "metadata": {},
   "outputs": [],
   "source": [
    "pred_default = svm_default.predict(X_test)\n",
    "accuracy_default = accuracy_score(y_test, pred_default)"
   ]
  },
  {
   "cell_type": "code",
   "execution_count": 29,
   "id": "b97e8a96",
   "metadata": {},
   "outputs": [
    {
     "name": "stdout",
     "output_type": "stream",
     "text": [
      "Test accuracy\n",
      "Default parameters: 0.7538461538461538\n",
      "Genetic Algorithm's parameters: 0.7846153846153846\n"
     ]
    },
    {
     "data": {
      "image/png": "[encoded data removed]",
      "text/plain": [
       "<Figure size 432x288 with 1 Axes>"
      ]
     },
     "metadata": {
      "needs_background": "light"
     },
     "output_type": "display_data"
    }
   ],
   "source": [
    "accuracy_data = [accuracy_default, -model.best_function]\n",
    "axis = ['default', 'Genetic Algorithm']\n",
    "plt.bar(axis, accuracy_data, color=['blue', 'green'])\n",
    "print(\"Test accuracy\\nDefault parameters: {}\\nGenetic Algorithm's parameters: {}\".format(accuracy_default, -model.best_function))\n"
   ]
  },
  {
   "cell_type": "markdown",
   "id": "9d212710",
   "metadata": {},
   "source": [
    "**Вывод**: Благодаря генетическому алгоритму оптимизации удалось увеличить значение точности предсказания на тестовых данных, по сравнению с стандартными значениями "
   ]
  },
  {
   "cell_type": "markdown",
   "id": "dd06120e",
   "metadata": {},
   "source": [
    "# Поиск оптимальных параметров KNN"
   ]
  },
  {
   "cell_type": "code",
   "execution_count": 47,
   "id": "d9dcaade",
   "metadata": {},
   "outputs": [],
   "source": [
    "from sklearn.neighbors import KNeighborsClassifier"
   ]
  },
  {
   "cell_type": "markdown",
   "id": "025920ab",
   "metadata": {},
   "source": [
    "По умолчанию я буду использовать метрику **_manhattan_**, и весовую функцию **_distance_** так как в предыдущих практиках они показывали лучший результат"
   ]
  },
  {
   "cell_type": "markdown",
   "id": "8e0f4c9b",
   "metadata": {},
   "source": [
    "Так же для поиска наилучших параметров обучения будем использовать **_генетический алгоритм_**, так как он показал себя лучше роя частиц в части B"
   ]
  },
  {
   "cell_type": "code",
   "execution_count": 64,
   "id": "18a026c6",
   "metadata": {},
   "outputs": [],
   "source": [
    "def func_2(X):\n",
    "    # Обучение модели\n",
    "    knn = KNeighborsClassifier(metric='manhattan',\n",
    "                               weights='distance',\n",
    "                               n_neighbors=int(X[0]),\n",
    "                               leaf_size=int(X[1]),\n",
    "                               p=int(X[2])).fit(X_train, y_train)\n",
    "    # Предсказание на тестовых данных\n",
    "    pred = knn.predict(X_test)\n",
    "    accuracy = accuracy_score(y_test, pred)\n",
    "    # Возвращаем значение с минусом для максимизации функции\n",
    "    return -accuracy"
   ]
  },
  {
   "cell_type": "code",
   "execution_count": 65,
   "id": "9e5fa11f",
   "metadata": {},
   "outputs": [],
   "source": [
    "varbound = np.array([[1,100],[1, 100],[1, 20]],dtype=np.int32)"
   ]
  },
  {
   "cell_type": "code",
   "execution_count": 66,
   "id": "288d56d7",
   "metadata": {
    "scrolled": false
   },
   "outputs": [
    {
     "name": "stdout",
     "output_type": "stream",
     "text": [
      " The best solution found:                                                                           \n",
      " [11. 83. 20.]\n",
      "\n",
      " Objective function:\n",
      " -0.7230769230769231\n"
     ]
    },
    {
     "data": {
      "image/png": "[encoded data removed]",
      "text/plain": [
       "<Figure size 432x288 with 1 Axes>"
      ]
     },
     "metadata": {
      "needs_background": "light"
     },
     "output_type": "display_data"
    },
    {
     "name": "stdout",
     "output_type": "stream",
     "text": [
      "Время выполнения 64.92267441749573\n"
     ]
    }
   ],
   "source": [
    "model = geneticalgorithm(function=func_2, \n",
    "                         dimension=3, \n",
    "                         variable_type='int',\n",
    "                         variable_boundaries=varbound)\n",
    "time_start = time.time()\n",
    "model.run()\n",
    "time_end = time.time()\n",
    "print('Время выполнения {}'.format(time_end-time_start))"
   ]
  },
  {
   "cell_type": "code",
   "execution_count": 67,
   "id": "18e1af42",
   "metadata": {},
   "outputs": [],
   "source": [
    "knn_default = KNeighborsClassifier(metric='manhattan',\n",
    "                                   weights='distance').fit(X_train, y_train)"
   ]
  },
  {
   "cell_type": "code",
   "execution_count": 68,
   "id": "88db4e17",
   "metadata": {},
   "outputs": [],
   "source": [
    "pred_default = knn_default.predict(X_test)\n",
    "accuracy_default = accuracy_score(y_test, pred_default)"
   ]
  },
  {
   "cell_type": "code",
   "execution_count": 69,
   "id": "51050f21",
   "metadata": {},
   "outputs": [
    {
     "name": "stdout",
     "output_type": "stream",
     "text": [
      "Test accuracy\n",
      "Default parameters: 0.6461538461538462\n",
      "Genetic Algorithm's parameters: 0.7230769230769231\n"
     ]
    },
    {
     "data": {
      "image/png": "[encoded data removed]",
      "text/plain": [
       "<Figure size 432x288 with 1 Axes>"
      ]
     },
     "metadata": {
      "needs_background": "light"
     },
     "output_type": "display_data"
    }
   ],
   "source": [
    "accuracy_data = [accuracy_default, -model.best_function]\n",
    "axis = ['default', 'Genetic Algorithm']\n",
    "plt.bar(axis, accuracy_data, color=['blue', 'green'])\n",
    "print(\"Test accuracy\\nDefault parameters: {}\\nGenetic Algorithm's parameters: {}\".format(accuracy_default, -model.best_function))\n"
   ]
  },
  {
   "cell_type": "markdown",
   "id": "9ab9e018",
   "metadata": {},
   "source": [
    "**Вывод**: Благодаря генетическому алгоритму оптимизации удалось увеличить значение точности предсказания на тестовых данных, по сравнению с стандартными значениями"
   ]
  },
  {
   "cell_type": "markdown",
   "id": "9945a24b",
   "metadata": {},
   "source": [
    "# Поиск оптимальных параметров RF"
   ]
  },
  {
   "cell_type": "code",
   "execution_count": 70,
   "id": "ab77dfa5",
   "metadata": {},
   "outputs": [],
   "source": [
    "from sklearn.ensemble import RandomForestClassifier"
   ]
  },
  {
   "cell_type": "markdown",
   "id": "fe85ecfb",
   "metadata": {},
   "source": [
    "По умолчанию я буду использовать критерий **_entropy_**, max_features='auto' , bootstrap=False так как в предыдущих практиках они показывали лучший результат"
   ]
  },
  {
   "cell_type": "markdown",
   "id": "1190383c",
   "metadata": {},
   "source": [
    "Так же для поиска наилучших параметров обучения будем использовать **_генетический алгоритм_**, так как он показал себя лучше роя частиц в части B"
   ]
  },
  {
   "cell_type": "code",
   "execution_count": 71,
   "id": "8e765686",
   "metadata": {},
   "outputs": [],
   "source": [
    "def func_3(X):\n",
    "    # Обучение модели\n",
    "    rf = RandomForestClassifier(criterion='entropy',\n",
    "                                bootstrap=False,\n",
    "                                n_estimators=int(X[0]),\n",
    "                                max_depth = int(X[1]),\n",
    "                                min_samples_split = int(X[2])/100.0,\n",
    "                                min_samples_leaf = int(X[3])).fit(X_train, y_train)\n",
    "    # Предсказание на тестовых данных\n",
    "    pred = rf.predict(X_test)\n",
    "    accuracy = accuracy_score(y_test, pred)\n",
    "    # Возвращаем значение с минусом для максимизации функции\n",
    "    return -accuracy"
   ]
  },
  {
   "cell_type": "code",
   "execution_count": 72,
   "id": "b9738501",
   "metadata": {},
   "outputs": [],
   "source": [
    "varbound = np.array([[1,50],[1, 50],[1, 100],[1,50]],dtype=np.int32)"
   ]
  },
  {
   "cell_type": "code",
   "execution_count": 73,
   "id": "d4fc11c0",
   "metadata": {},
   "outputs": [
    {
     "name": "stdout",
     "output_type": "stream",
     "text": [
      " The best solution found:                                                                           \n",
      " [34. 14.  8.  1.]\n",
      "\n",
      " Objective function:\n",
      " -0.8769230769230769\n"
     ]
    },
    {
     "data": {
      "image/png": "[encoded data removed]",
      "text/plain": [
       "<Figure size 432x288 with 1 Axes>"
      ]
     },
     "metadata": {
      "needs_background": "light"
     },
     "output_type": "display_data"
    },
    {
     "name": "stdout",
     "output_type": "stream",
     "text": [
      "Время выполнения 1794.0552244186401\n"
     ]
    }
   ],
   "source": [
    "model = geneticalgorithm(function=func_3, \n",
    "                         dimension=4, \n",
    "                         variable_type='int',\n",
    "                         variable_boundaries=varbound)\n",
    "time_start = time.time()\n",
    "model.run()\n",
    "time_end = time.time()\n",
    "print('Время выполнения {}'.format(time_end-time_start))"
   ]
  },
  {
   "cell_type": "code",
   "execution_count": 74,
   "id": "ab38157f",
   "metadata": {},
   "outputs": [],
   "source": [
    "rf_default = RandomForestClassifier(criterion='entropy',\n",
    "                                    bootstrap=False,).fit(X_train, y_train)"
   ]
  },
  {
   "cell_type": "code",
   "execution_count": 75,
   "id": "620a44b3",
   "metadata": {},
   "outputs": [],
   "source": [
    "pred_default = rf_default.predict(X_test)\n",
    "accuracy_default = accuracy_score(y_test, pred_default)"
   ]
  },
  {
   "cell_type": "code",
   "execution_count": 76,
   "id": "250c0748",
   "metadata": {},
   "outputs": [
    {
     "name": "stdout",
     "output_type": "stream",
     "text": [
      "Test accuracy\n",
      "Default parameters: 0.8153846153846154\n",
      "Genetic Algorithm's parameters: 0.8769230769230769\n"
     ]
    },
    {
     "data": {
      "image/png": "[encoded data removed]",
      "text/plain": [
       "<Figure size 432x288 with 1 Axes>"
      ]
     },
     "metadata": {
      "needs_background": "light"
     },
     "output_type": "display_data"
    }
   ],
   "source": [
    "accuracy_data = [accuracy_default, -model.best_function]\n",
    "axis = ['default', 'Genetic Algorithm']\n",
    "plt.bar(axis, accuracy_data, color=['blue', 'green'])\n",
    "print(\"Test accuracy\\nDefault parameters: {}\\nGenetic Algorithm's parameters: {}\".format(accuracy_default, -model.best_function))\n"
   ]
  },
  {
   "cell_type": "markdown",
   "id": "26efd167",
   "metadata": {},
   "source": [
    "**Вывод**: Благодаря генетическому алгоритму оптимизации удалось увеличить значение точности предсказания на тестовых данных, по сравнению с стандартными значениями"
   ]
  },
  {
   "cell_type": "code",
   "execution_count": null,
   "id": "b670227a",
   "metadata": {},
   "outputs": [],
   "source": []
  }
 ],
 "metadata": {
  "kernelspec": {
   "display_name": "Python 3 (ipykernel)",
   "language": "python",
   "name": "python3"
  },
  "language_info": {
   "codemirror_mode": {
    "name": "ipython",
    "version": 3
   },
   "file_extension": ".py",
   "mimetype": "text/x-python",
   "name": "python",
   "nbconvert_exporter": "python",
   "pygments_lexer": "ipython3",
   "version": "3.8.12"
  }
 },
 "nbformat": 4,
 "nbformat_minor": 5
}
