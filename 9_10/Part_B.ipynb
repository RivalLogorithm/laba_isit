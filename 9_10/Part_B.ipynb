{
 "cells": [
  {
   "cell_type": "code",
   "execution_count": 1,
   "id": "e44c802c",
   "metadata": {},
   "outputs": [],
   "source": [
    "import numpy as np\n",
    "import time\n",
    "import math\n",
    "import matplotlib.pyplot as plt"
   ]
  },
  {
   "cell_type": "markdown",
   "id": "34f5f9a1",
   "metadata": {},
   "source": [
    "# Тестовая функция - Функция Била"
   ]
  },
  {
   "cell_type": "code",
   "execution_count": 2,
   "id": "df67c598",
   "metadata": {},
   "outputs": [],
   "source": [
    "def beal_function(X):\n",
    "    res = (\n",
    "        (1.5 - X[0] + X[0] * X[1]) ** 2\n",
    "        + (2.25 - X[0] + X[0] * X[1] ** 2) ** 2\n",
    "        + (2.625 - X[0] + X[0] * X[1] ** 3) ** 2\n",
    "    )\n",
    "    return  res"
   ]
  },
  {
   "cell_type": "markdown",
   "id": "ff93ce27",
   "metadata": {},
   "source": [
    "# Оптимизация генетическим алгоритмом"
   ]
  },
  {
   "cell_type": "code",
   "execution_count": 10,
   "id": "c5af7f4d",
   "metadata": {},
   "outputs": [],
   "source": [
    "from geneticalgorithm import geneticalgorithm"
   ]
  },
  {
   "cell_type": "code",
   "execution_count": 11,
   "id": "ee459fc2",
   "metadata": {},
   "outputs": [
    {
     "name": "stdout",
     "output_type": "stream",
     "text": [
      " The best solution found:                                                                           \n",
      " [3.00646381 0.50177731]\n",
      "\n",
      " Objective function:\n",
      " 7.383530587819942e-06\n"
     ]
    },
    {
     "data": {
      "image/png": "[encoded data removed]",
      "text/plain": [
       "<Figure size 432x288 with 1 Axes>"
      ]
     },
     "metadata": {
      "needs_background": "light"
     },
     "output_type": "display_data"
    },
    {
     "name": "stdout",
     "output_type": "stream",
     "text": [
      "Время выполнения 10.649173974990845\n"
     ]
    }
   ],
   "source": [
    "time_start = time.time()\n",
    "varbound = np.array([[-4.5,4.5]]*2)\n",
    "model = geneticalgorithm(function=beal_function, \n",
    "                         dimension=2, \n",
    "                         variable_type='real', \n",
    "                         variable_boundaries=varbound)\n",
    "model.run()\n",
    "time_end = time.time()\n",
    "print(\"Время выполнения {}\".format(time_end-time_start))"
   ]
  },
  {
   "cell_type": "markdown",
   "id": "c476eb3f",
   "metadata": {},
   "source": [
    "# Вычисление мат ожидания и дисперсии путем 100 прогонов"
   ]
  },
  {
   "cell_type": "code",
   "execution_count": 12,
   "id": "5032379d",
   "metadata": {},
   "outputs": [],
   "source": [
    "my_list = []"
   ]
  },
  {
   "cell_type": "code",
   "execution_count": 13,
   "id": "1d61a6ad",
   "metadata": {},
   "outputs": [
    {
     "name": "stdout",
     "output_type": "stream",
     "text": [
      "Шаг номер  0\n",
      " The best solution found:\n",
      " [3.06638692 0.51758748]\n",
      "\n",
      " Objective function:\n",
      " 0.0007183887415184282\n",
      "Время выполнения: 9.017561912536621\n",
      "Шаг номер  1\n",
      " The best solution found:\n",
      " [3.00739806 0.50170382]\n",
      "\n",
      " Objective function:\n",
      " 9.052994349330163e-06\n",
      "Время выполнения: 9.038349628448486\n",
      "Шаг номер  2\n",
      " The best solution found:\n",
      " [2.95390632 0.48801353]\n",
      "\n",
      " Objective function:\n",
      " 0.000360540556207293\n",
      "Время выполнения: 9.33601188659668\n",
      "Шаг номер  3\n",
      " The best solution found:\n",
      " [2.91762366 0.48031143]\n",
      "\n",
      " Objective function:\n",
      " 0.0012348488750147982\n",
      "Время выполнения: 9.411257028579712\n",
      "Шаг номер  4\n",
      " The best solution found:\n",
      " [2.95112005 0.4861268 ]\n",
      "\n",
      " Objective function:\n",
      " 0.00045270480901931634\n",
      "Время выполнения: 9.174082517623901\n",
      "Шаг номер  5\n",
      " The best solution found:\n",
      " [2.88925243 0.46767595]\n",
      "\n",
      " Objective function:\n",
      " 0.00247798449160694\n",
      "Время выполнения: 9.386618375778198\n",
      "Шаг номер  6\n",
      " The best solution found:\n",
      " [2.98163299 0.49470139]\n",
      "\n",
      " Objective function:\n",
      " 6.641964056755969e-05\n",
      "Время выполнения: 9.265634536743164\n",
      "Шаг номер  7\n",
      " The best solution found:\n",
      " [3.05463455 0.51409119]\n",
      "\n",
      " Objective function:\n",
      " 0.00046774832971784464\n",
      "Время выполнения: 9.257385492324829\n",
      "Шаг номер  8\n",
      " The best solution found:\n",
      " [2.94668204 0.48545473]\n",
      "\n",
      " Objective function:\n",
      " 0.0005057475778486984\n",
      "Время выполнения: 9.173187971115112\n",
      "Шаг номер  9\n",
      " The best solution found:\n",
      " [2.98101703 0.49514883]\n",
      "\n",
      " Objective function:\n",
      " 5.9168295462534566e-05\n",
      "Время выполнения: 9.30377459526062\n",
      "Шаг номер  10\n",
      " The best solution found:\n",
      " [2.98925195 0.49707996]\n",
      "\n",
      " Objective function:\n",
      " 2.0054231292884423e-05\n",
      "Время выполнения: 9.130641460418701\n",
      "Шаг номер  11\n",
      " The best solution found:\n",
      " [2.98397305 0.49564676]\n",
      "\n",
      " Objective function:\n",
      " 4.465855724156572e-05\n",
      "Время выполнения: 9.285614967346191\n",
      "Шаг номер  12\n",
      " The best solution found:\n",
      " [3.00145231 0.50061772]\n",
      "\n",
      " Objective function:\n",
      " 1.8736374593778277e-06\n",
      "Время выполнения: 9.298707246780396\n",
      "Шаг номер  13\n",
      " The best solution found:\n",
      " [2.92409124 0.47775656]\n",
      "\n",
      " Objective function:\n",
      " 0.0011692530844000797\n",
      "Время выполнения: 9.280181169509888\n",
      "Шаг номер  14\n",
      " The best solution found:\n",
      " [2.95275173 0.48749785]\n",
      "\n",
      " Objective function:\n",
      " 0.00038339460538443026\n",
      "Время выполнения: 9.403303861618042\n",
      "Шаг номер  15\n",
      " The best solution found:\n",
      " [2.93219045 0.47906842]\n",
      "\n",
      " Objective function:\n",
      " 0.0010709912045938144\n",
      "Время выполнения: 9.455400466918945\n",
      "Шаг номер  16\n",
      " The best solution found:\n",
      " [3.0734971  0.51794412]\n",
      "\n",
      " Objective function:\n",
      " 0.000799553894274869\n",
      "Время выполнения: 9.252084016799927\n",
      "Шаг номер  17\n",
      " The best solution found:\n",
      " [2.99550006 0.49899414]\n",
      "\n",
      " Objective function:\n",
      " 3.5452727560258146e-06\n",
      "Время выполнения: 9.09426498413086\n",
      "Шаг номер  18\n",
      " The best solution found:\n",
      " [2.97753647 0.49439241]\n",
      "\n",
      " Objective function:\n",
      " 8.282152912717893e-05\n",
      "Время выполнения: 9.166646718978882\n",
      "Шаг номер  19\n",
      " The best solution found:\n",
      " [2.95609466 0.48893804]\n",
      "\n",
      " Objective function:\n",
      " 0.00032410078214777126\n",
      "Время выполнения: 9.29036259651184\n",
      "Шаг номер  20\n",
      " The best solution found:\n",
      " [3.01784307 0.5041579 ]\n",
      "\n",
      " Objective function:\n",
      " 5.1256989721556784e-05\n",
      "Время выполнения: 9.232238054275513\n",
      "Шаг номер  21\n",
      " The best solution found:\n",
      " [3.03706443 0.50935136]\n",
      "\n",
      " Objective function:\n",
      " 0.00021327301684614865\n",
      "Время выполнения: 9.262239217758179\n",
      "Шаг номер  22\n",
      " The best solution found:\n",
      " [3.01969361 0.5049147 ]\n",
      "\n",
      " Objective function:\n",
      " 6.0859290493734524e-05\n",
      "Время выполнения: 9.238388299942017\n",
      "Шаг номер  23\n",
      " The best solution found:\n",
      " [2.99613719 0.49904961]\n",
      "\n",
      " Objective function:\n",
      " 2.400444073308654e-06\n",
      "Время выполнения: 9.197208881378174\n",
      "Шаг номер  24\n",
      " The best solution found:\n",
      " [2.95768007 0.48931934]\n",
      "\n",
      " Objective function:\n",
      " 0.0003005670831620689\n",
      "Время выполнения: 9.381433486938477\n",
      "Шаг номер  25\n",
      " The best solution found:\n",
      " [3.02241184 0.50573408]\n",
      "\n",
      " Objective function:\n",
      " 7.966555129149892e-05\n",
      "Время выполнения: 9.30540680885315\n",
      "Шаг номер  26\n",
      " The best solution found:\n",
      " [2.99868844 0.49917796]\n",
      "\n",
      " Objective function:\n",
      " 5.949370500442862e-06\n",
      "Время выполнения: 8.968493461608887\n",
      "Шаг номер  27\n",
      " The best solution found:\n",
      " [3.00070383 0.50020978]\n",
      "\n",
      " Objective function:\n",
      " 1.0800681502622294e-07\n",
      "Время выполнения: 9.178584337234497\n",
      "Шаг номер  28\n",
      " The best solution found:\n",
      " [2.93898952 0.48365979]\n",
      "\n",
      " Objective function:\n",
      " 0.0006524751656773016\n",
      "Время выполнения: 9.307695627212524\n",
      "Шаг номер  29\n",
      " The best solution found:\n",
      " [2.87912601 0.4641049 ]\n",
      "\n",
      " Objective function:\n",
      " 0.0030566486816839197\n",
      "Время выполнения: 9.13406252861023\n",
      "Шаг номер  30\n",
      " The best solution found:\n",
      " [3.04510765 0.51197168]\n",
      "\n",
      " Objective function:\n",
      " 0.0003341282272002676\n",
      "Время выполнения: 9.015349626541138\n",
      "Шаг номер  31\n",
      " The best solution found:\n",
      " [3.07955413 0.52096739]\n",
      "\n",
      " Objective function:\n",
      " 0.0010195580226567721\n",
      "Время выполнения: 9.070630550384521\n",
      "Шаг номер  32\n",
      " The best solution found:\n",
      " [2.89958423 0.47208013]\n",
      "\n",
      " Objective function:\n",
      " 0.0018855694224137608\n",
      "Время выполнения: 9.255184412002563\n",
      "Шаг номер  33\n",
      " The best solution found:\n",
      " [2.97851076 0.49424391]\n",
      "\n",
      " Objective function:\n",
      " 7.893630940348647e-05\n",
      "Время выполнения: 9.201171159744263\n",
      "Шаг номер  34\n",
      " The best solution found:\n",
      " [2.93625617 0.48209868]\n",
      "\n",
      " Objective function:\n",
      " 0.0007576633761617981\n",
      "Время выполнения: 9.219704627990723\n",
      "Шаг номер  35\n",
      " The best solution found:\n",
      " [3.0195677  0.50481424]\n",
      "\n",
      " Objective function:\n",
      " 5.997418271776081e-05\n",
      "Время выполнения: 9.076377868652344\n",
      "Шаг номер  36\n",
      " The best solution found:\n",
      " [2.95192975 0.4868915 ]\n",
      "\n",
      " Objective function:\n",
      " 0.00040976166727687603\n",
      "Время выполнения: 9.020828485488892\n",
      "Шаг номер  37\n",
      " The best solution found:\n",
      " [2.98977652 0.49747548]\n",
      "\n",
      " Objective function:\n",
      " 1.6931191128873095e-05\n",
      "Время выполнения: 9.103193521499634\n",
      "Шаг номер  38\n",
      " The best solution found:\n",
      " [3.0145343  0.50394794]\n",
      "\n",
      " Objective function:\n",
      " 3.641711841275189e-05\n",
      "Время выполнения: 9.01906132698059\n",
      "Шаг номер  39\n",
      " The best solution found:\n",
      " [3.04810418 0.51276399]\n",
      "\n",
      " Objective function:\n",
      " 0.0003795663433966783\n",
      "Время выполнения: 9.049137353897095\n",
      "Шаг номер  40\n",
      " The best solution found:\n",
      " [2.97567329 0.49358914]\n",
      "\n",
      " Objective function:\n",
      " 9.957722060713781e-05\n",
      "Время выполнения: 9.307914018630981\n",
      "Шаг номер  41\n",
      " The best solution found:\n",
      " [2.83697733 0.45560208]\n",
      "\n",
      " Objective function:\n",
      " 0.005150647555912682\n",
      "Время выполнения: 9.155564069747925\n",
      "Шаг номер  42\n",
      " The best solution found:\n",
      " [2.94509516 0.48475493]\n",
      "\n",
      " Objective function:\n",
      " 0.0005502453302464971\n",
      "Время выполнения: 9.075866222381592\n",
      "Шаг номер  43\n",
      " The best solution found:\n",
      " [2.95729687 0.48756887]\n",
      "\n",
      " Objective function:\n",
      " 0.00036548810801342364\n",
      "Время выполнения: 9.175594568252563\n",
      "Шаг номер  44\n",
      " The best solution found:\n",
      " [3.01626019 0.50415964]\n",
      "\n",
      " Objective function:\n",
      " 4.212847979468342e-05\n",
      "Время выполнения: 9.104623079299927\n",
      "Шаг номер  45\n",
      " The best solution found:\n",
      " [2.99040255 0.49778212]\n",
      "\n",
      " Objective function:\n",
      " 1.557085304612202e-05\n",
      "Время выполнения: 9.27829098701477\n",
      "Шаг номер  46\n",
      " The best solution found:\n",
      " [3.02452508 0.50570012]\n",
      "\n",
      " Objective function:\n",
      " 9.613774977526048e-05\n",
      "Время выполнения: 9.19499158859253\n",
      "Шаг номер  47\n",
      " The best solution found:\n",
      " [2.992732   0.49824305]\n",
      "\n",
      " Objective function:\n",
      " 8.582329611122306e-06\n",
      "Время выполнения: 9.163510799407959\n",
      "Шаг номер  48\n",
      " The best solution found:\n",
      " [3.07763297 0.52147017]\n",
      "\n",
      " Objective function:\n",
      " 0.0010919502620722445\n",
      "Время выполнения: 9.110163927078247\n",
      "Шаг номер  49\n",
      " The best solution found:\n",
      " [2.94661341 0.48662227]\n",
      "\n",
      " Objective function:\n",
      " 0.0004848534374610575\n",
      "Время выполнения: 9.438596248626709\n",
      "Шаг номер  50\n",
      " The best solution found:\n",
      " [2.96221427 0.48920921]\n",
      "\n",
      " Objective function:\n",
      " 0.0002738438963290283\n",
      "Время выполнения: 9.340104341506958\n",
      "Шаг номер  51\n",
      " The best solution found:\n",
      " [3.03394283 0.50857753]\n",
      "\n",
      " Objective function:\n",
      " 0.00017950086136573376\n",
      "Время выполнения: 9.49953007698059\n",
      "Шаг номер  52\n",
      " The best solution found:\n",
      " [2.99580505 0.49856456]\n",
      "\n",
      " Objective function:\n",
      " 6.376880615676738e-06\n",
      "Время выполнения: 9.161702632904053\n",
      "Шаг номер  53\n",
      " The best solution found:\n",
      " [3.05853212 0.51542242]\n",
      "\n",
      " Objective function:\n",
      " 0.0005536776798396826\n",
      "Время выполнения: 9.370261430740356\n",
      "Шаг номер  54\n",
      " The best solution found:\n",
      " [3.02172681 0.50610637]\n",
      "\n",
      " Objective function:\n",
      " 8.775779957009874e-05\n",
      "Время выполнения: 9.27075743675232\n",
      "Шаг номер  55\n",
      " The best solution found:\n",
      " [2.93901093 0.48182424]\n",
      "\n",
      " Objective function:\n",
      " 0.0007877620616309041\n",
      "Время выполнения: 9.557067155838013\n",
      "Шаг номер  56\n",
      " The best solution found:\n",
      " [2.98981729 0.49749278]\n",
      "\n",
      " Objective function:\n",
      " 1.6803769904847674e-05\n"
     ]
    },
    {
     "name": "stdout",
     "output_type": "stream",
     "text": [
      "Время выполнения: 9.34970235824585\n",
      "Шаг номер  57\n",
      " The best solution found:\n",
      " [3.01321887 0.503704  ]\n",
      "\n",
      " Objective function:\n",
      " 3.21953668843284e-05\n",
      "Время выполнения: 9.317277193069458\n",
      "Шаг номер  58\n",
      " The best solution found:\n",
      " [3.03636943 0.50981313]\n",
      "\n",
      " Objective function:\n",
      " 0.00022435723307386132\n",
      "Время выполнения: 9.30510401725769\n",
      "Шаг номер  59\n",
      " The best solution found:\n",
      " [2.94397902 0.48557078]\n",
      "\n",
      " Objective function:\n",
      " 0.0005358739249087864\n",
      "Время выполнения: 9.161272525787354\n",
      "Шаг номер  60\n",
      " The best solution found:\n",
      " [3.01408291 0.50302114]\n",
      "\n",
      " Objective function:\n",
      " 3.602470085418988e-05\n",
      "Время выполнения: 9.232426881790161\n",
      "Шаг номер  61\n",
      " The best solution found:\n",
      " [2.97082743 0.49295589]\n",
      "\n",
      " Objective function:\n",
      " 0.00014243421976318073\n",
      "Время выполнения: 9.159883260726929\n",
      "Шаг номер  62\n",
      " The best solution found:\n",
      " [3.05270027 0.51427937]\n",
      "\n",
      " Objective function:\n",
      " 0.0004748918509190643\n",
      "Время выполнения: 9.241236925125122\n",
      "Шаг номер  63\n",
      " The best solution found:\n",
      " [3.03560064 0.50942105]\n",
      "\n",
      " Objective function:\n",
      " 0.00020769601962244058\n",
      "Время выполнения: 9.2559654712677\n",
      "Шаг номер  64\n",
      " The best solution found:\n",
      " [3.02380767 0.50647225]\n",
      "\n",
      " Objective function:\n",
      " 9.772948092281606e-05\n",
      "Время выполнения: 9.31093955039978\n",
      "Шаг номер  65\n",
      " The best solution found:\n",
      " [2.98977554 0.4969505 ]\n",
      "\n",
      " Objective function:\n",
      " 2.2683196716523983e-05\n",
      "Время выполнения: 9.121422529220581\n",
      "Шаг номер  66\n",
      " The best solution found:\n",
      " [2.91805418 0.47906362]\n",
      "\n",
      " Objective function:\n",
      " 0.0011789559765802435\n",
      "Время выполнения: 9.528446674346924\n",
      "Шаг номер  67\n",
      " The best solution found:\n",
      " [3.03023819 0.50767188]\n",
      "\n",
      " Objective function:\n",
      " 0.00014326052299658845\n",
      "Время выполнения: 9.669582843780518\n",
      "Шаг номер  68\n",
      " The best solution found:\n",
      " [3.04254045 0.51178598]\n",
      "\n",
      " Objective function:\n",
      " 0.00032588232774454493\n",
      "Время выполнения: 9.397278547286987\n",
      "Шаг номер  69\n",
      " The best solution found:\n",
      " [3.00135196 0.5003315 ]\n",
      "\n",
      " Objective function:\n",
      " 2.9241018070995885e-07\n",
      "Время выполнения: 9.498471021652222\n",
      "Шаг номер  70\n",
      " The best solution found:\n",
      " [3.06561259 0.51782173]\n",
      "\n",
      " Objective function:\n",
      " 0.0007411352359904763\n",
      "Время выполнения: 9.44814157485962\n",
      "Шаг номер  71\n",
      " The best solution found:\n",
      " [3.06697646 0.51760235]\n",
      "\n",
      " Objective function:\n",
      " 0.0007202661216549541\n",
      "Время выполнения: 9.53752326965332\n",
      "Шаг номер  72\n",
      " The best solution found:\n",
      " [3.06314988 0.51553138]\n",
      "\n",
      " Objective function:\n",
      " 0.0005974962189523474\n",
      "Время выполнения: 9.576871633529663\n",
      "Шаг номер  73\n",
      " The best solution found:\n",
      " [2.97215958 0.49324358]\n",
      "\n",
      " Objective function:\n",
      " 0.00012912109992947883\n",
      "Время выполнения: 9.498615980148315\n",
      "Шаг номер  74\n",
      " The best solution found:\n",
      " [3.01457978 0.50356158]\n",
      "\n",
      " Objective function:\n",
      " 3.350333425086448e-05\n",
      "Время выполнения: 9.698348760604858\n",
      "Шаг номер  75\n",
      " The best solution found:\n",
      " [2.8743053  0.46599648]\n",
      "\n",
      " Objective function:\n",
      " 0.0029438883344203312\n",
      "Время выполнения: 9.543564796447754\n",
      "Шаг номер  76\n",
      " The best solution found:\n",
      " [2.98956526 0.49735911]\n",
      "\n",
      " Objective function:\n",
      " 1.7672061858563532e-05\n",
      "Время выполнения: 9.686264038085938\n",
      "Шаг номер  77\n",
      " The best solution found:\n",
      " [3.02624942 0.5071093 ]\n",
      "\n",
      " Objective function:\n",
      " 0.0001178951226069945\n",
      "Время выполнения: 9.533499717712402\n",
      "Шаг номер  78\n",
      " The best solution found:\n",
      " [3.03878459 0.51023159]\n",
      "\n",
      " Objective function:\n",
      " 0.000245028594128907\n",
      "Время выполнения: 9.30589771270752\n",
      "Шаг номер  79\n",
      " The best solution found:\n",
      " [3.03180935 0.5079491 ]\n",
      "\n",
      " Objective function:\n",
      " 0.00015702019701972157\n",
      "Время выполнения: 9.524972438812256\n",
      "Шаг номер  80\n",
      " The best solution found:\n",
      " [3.02112574 0.50499181]\n",
      "\n",
      " Objective function:\n",
      " 7.074457323775146e-05\n",
      "Время выполнения: 9.800765037536621\n",
      "Шаг номер  81\n",
      " The best solution found:\n",
      " [2.96130577 0.4897049 ]\n",
      "\n",
      " Objective function:\n",
      " 0.00025675115870166053\n",
      "Время выполнения: 10.156799077987671\n",
      "Шаг номер  82\n",
      " The best solution found:\n",
      " [3.08370064 0.51994862]\n",
      "\n",
      " Objective function:\n",
      " 0.0010235877990677571\n",
      "Время выполнения: 10.03872275352478\n",
      "Шаг номер  83\n",
      " The best solution found:\n",
      " [3.04116052 0.5113719 ]\n",
      "\n",
      " Objective function:\n",
      " 0.00030289441317040534\n",
      "Время выполнения: 9.992492198944092\n",
      "Шаг номер  84\n",
      " The best solution found:\n",
      " [3.06747209 0.51763761]\n",
      "\n",
      " Objective function:\n",
      " 0.0007240703681877353\n",
      "Время выполнения: 9.907367944717407\n",
      "Шаг номер  85\n",
      " The best solution found:\n",
      " [2.90491657 0.47521672]\n",
      "\n",
      " Objective function:\n",
      " 0.0016125746395769267\n",
      "Время выполнения: 10.175242900848389\n",
      "Шаг номер  86\n",
      " The best solution found:\n",
      " [2.96064804 0.48887889]\n",
      "\n",
      " Objective function:\n",
      " 0.00029058830505292215\n",
      "Время выполнения: 9.945926666259766\n",
      "Шаг номер  87\n",
      " The best solution found:\n",
      " [3.19704049 0.54934456]\n",
      "\n",
      " Objective function:\n",
      " 0.005591089269181516\n",
      "Время выполнения: 9.833678483963013\n",
      "Шаг номер  88\n",
      " The best solution found:\n",
      " [2.95898181 0.48976011]\n",
      "\n",
      " Objective function:\n",
      " 0.0002821877208191303\n",
      "Время выполнения: 9.787458896636963\n",
      "Шаг номер  89\n",
      " The best solution found:\n",
      " [2.98591153 0.49607996]\n",
      "\n",
      " Objective function:\n",
      " 3.600105620526353e-05\n",
      "Время выполнения: 9.57788372039795\n",
      "Шаг номер  90\n",
      " The best solution found:\n",
      " [2.99237759 0.49771753]\n",
      "\n",
      " Objective function:\n",
      " 1.2784216691564982e-05\n",
      "Время выполнения: 9.613838911056519\n",
      "Шаг номер  91\n",
      " The best solution found:\n",
      " [3.05044472 0.51232972]\n",
      "\n",
      " Objective function:\n",
      " 0.0003854764492906851\n",
      "Время выполнения: 9.728976011276245\n",
      "Шаг номер  92\n",
      " The best solution found:\n",
      " [3.00818918 0.5021332 ]\n",
      "\n",
      " Objective function:\n",
      " 1.0916342368567799e-05\n",
      "Время выполнения: 9.748824834823608\n",
      "Шаг номер  93\n",
      " The best solution found:\n",
      " [3.0116428 0.5031447]\n",
      "\n",
      " Objective function:\n",
      " 2.3147328228485756e-05\n",
      "Время выполнения: 9.94132685661316\n",
      "Шаг номер  94\n",
      " The best solution found:\n",
      " [2.97085756 0.49256343]\n",
      "\n",
      " Objective function:\n",
      " 0.00014076493116478458\n",
      "Время выполнения: 9.914034605026245\n",
      "Шаг номер  95\n",
      " The best solution found:\n",
      " [3.06003924 0.51519105]\n",
      "\n",
      " Objective function:\n",
      " 0.00055136494428764\n",
      "Время выполнения: 9.629146099090576\n",
      "Шаг номер  96\n",
      " The best solution found:\n",
      " [3.00210784 0.50049389]\n",
      "\n",
      " Objective function:\n",
      " 7.280463113733507e-07\n",
      "Время выполнения: 9.649274349212646\n",
      "Шаг номер  97\n",
      " The best solution found:\n",
      " [3.00644986 0.50140447]\n",
      "\n",
      " Objective function:\n",
      " 7.4563563571208016e-06\n",
      "Время выполнения: 9.50390076637268\n",
      "Шаг номер  98\n",
      " The best solution found:\n",
      " [2.98766453 0.49658023]\n",
      "\n",
      " Objective function:\n",
      " 2.7394880025990382e-05\n",
      "Время выполнения: 9.55622673034668\n",
      "Шаг номер  99\n",
      " The best solution found:\n",
      " [2.95350933 0.48826615]\n",
      "\n",
      " Objective function:\n",
      " 0.00036444766754267386\n",
      "Время выполнения: 9.517348289489746\n"
     ]
    }
   ],
   "source": [
    "for i in range(100):\n",
    "    print(\"Шаг номер \", i)\n",
    "    time_start = time.time()\n",
    "    model = geneticalgorithm(function=beal_function, \n",
    "                             dimension=2, \n",
    "                             variable_type='real', \n",
    "                             variable_boundaries=varbound,\n",
    "                             convergence_curve=False,\n",
    "                             progress_bar=False)\n",
    "    model.run()\n",
    "    my_list.append(model.best_function)\n",
    "    time_end = time.time()\n",
    "    print(\"Время выполнения: {}\".format(time_end-time_start))"
   ]
  },
  {
   "cell_type": "code",
   "execution_count": 15,
   "id": "c7f696ff",
   "metadata": {},
   "outputs": [
    {
     "name": "stdout",
     "output_type": "stream",
     "text": [
      "M(X) =  0.0005030573886427084\n",
      "D(X) =  8.081618481999791e-07\n"
     ]
    }
   ],
   "source": [
    "print(\"M(X) = \", np.mean(my_list))\n",
    "print(\"D(X) = \", np.var(my_list))"
   ]
  },
  {
   "cell_type": "markdown",
   "id": "8a810677",
   "metadata": {},
   "source": [
    "**Вывод**: Значение дисперсии является крайне малым, следовательно алгоритм **сходится**"
   ]
  },
  {
   "cell_type": "markdown",
   "id": "d7309d89",
   "metadata": {},
   "source": [
    "# Оптимизация алгоритмом роя частиц"
   ]
  },
  {
   "cell_type": "code",
   "execution_count": 3,
   "id": "48e019b9",
   "metadata": {},
   "outputs": [],
   "source": [
    "import pyswarms as ps"
   ]
  },
  {
   "cell_type": "code",
   "execution_count": 4,
   "id": "f8ee36c3",
   "metadata": {},
   "outputs": [],
   "source": [
    "def beal_function2(X):\n",
    "    x = X[:, 0]\n",
    "    y = X[:, 1]\n",
    "    res = (\n",
    "        (1.5 - x + x * y) ** 2\n",
    "        + (2.25 - x + x * y ** 2) ** 2\n",
    "        + (2.625 - x + x * y ** 3) ** 2\n",
    "    )\n",
    "    return  res"
   ]
  },
  {
   "cell_type": "code",
   "execution_count": 5,
   "id": "2c90abd9",
   "metadata": {},
   "outputs": [
    {
     "name": "stderr",
     "output_type": "stream",
     "text": [
      "2021-11-25 21:07:56,889 - pyswarms.single.global_best - INFO - Optimize for 100 iters with {'c1': 0.5, 'c2': 0.3, 'w': 0.9}\n",
      "pyswarms.single.global_best: 100%|█████████████████████████████████████████████████████████|100/100, best_cost=0.000377\n",
      "2021-11-25 21:07:56,947 - pyswarms.single.global_best - INFO - Optimization finished | best cost: 0.00037708101191513785, best pos: [3.0498406  0.51193967]\n"
     ]
    }
   ],
   "source": [
    "# Set-up hyperparameters\n",
    "options = {'c1': 0.5, 'c2': 0.3, 'w':0.9}\n",
    "\n",
    "#varbound = np.array([[-4.5,4.5]]*2)\n",
    "max_bound = 4.5 * np.ones(2)\n",
    "min_bound = - max_bound\n",
    "varbound = (min_bound, max_bound)\n",
    "\n",
    "# Call instance of GlobalBestPSO\n",
    "optimizer = ps.single.GlobalBestPSO(n_particles=10, \n",
    "                                          dimensions=2,\n",
    "                                          options=options,\n",
    "                                          bounds=varbound)\n",
    "time_start = time.time()\n",
    "stats = optimizer.optimize(beal_function2, iters=100)\n",
    "time_end = time.time()"
   ]
  },
  {
   "cell_type": "code",
   "execution_count": 6,
   "id": "92c2c4d3",
   "metadata": {},
   "outputs": [],
   "source": [
    "from pyswarms.utils.plotters import (plot_cost_history, plot_contour, plot_surface)"
   ]
  },
  {
   "cell_type": "code",
   "execution_count": 7,
   "id": "03f59527",
   "metadata": {},
   "outputs": [
    {
     "name": "stdout",
     "output_type": "stream",
     "text": [
      "Время выполнения: 0.05884194374084473\n"
     ]
    },
    {
     "data": {
      "text/plain": [
       "<AxesSubplot:title={'center':'Cost History'}, xlabel='Iterations', ylabel='Cost'>"
      ]
     },
     "execution_count": 7,
     "metadata": {},
     "output_type": "execute_result"
    },
    {
     "data": {
      "image/png": "[encoded data removed]",
      "text/plain": [
       "<Figure size 720x576 with 1 Axes>"
      ]
     },
     "metadata": {
      "needs_background": "light"
     },
     "output_type": "display_data"
    }
   ],
   "source": [
    "print(\"Время выполнения: {}\".format(time_end-time_start))\n",
    "plot_cost_history(cost_history=optimizer.cost_history)"
   ]
  },
  {
   "cell_type": "code",
   "execution_count": 8,
   "id": "d5f2d877",
   "metadata": {},
   "outputs": [
    {
     "name": "stdout",
     "output_type": "stream",
     "text": [
      "Лучшее решение:  [3.0498406  0.51193967]\n",
      "Наименьшее значение функции:  0.00037708101191513785\n"
     ]
    }
   ],
   "source": [
    "print(\"Лучшее решение: \", stats[1])\n",
    "print(\"Наименьшее значение функции: \", stats[0])"
   ]
  },
  {
   "cell_type": "code",
   "execution_count": 9,
   "id": "fc1ae088",
   "metadata": {},
   "outputs": [],
   "source": [
    "from pyswarms.utils.plotters.formatters import Mesher, Designer"
   ]
  },
  {
   "cell_type": "code",
   "execution_count": 10,
   "id": "313961bb",
   "metadata": {},
   "outputs": [
    {
     "name": "stderr",
     "output_type": "stream",
     "text": [
      "C:\\Users\\shars\\anaconda3\\envs\\demidova\\lib\\site-packages\\pyswarms\\utils\\plotters\\plotters.py:222: UserWarning: No contour levels were found within the data range.\n",
      "  ax.contour(xx, yy, zz, levels=mesher.levels)\n"
     ]
    },
    {
     "data": {
      "image/png": "[encoded data removed]",
      "text/plain": [
       "<Figure size 720x576 with 1 Axes>"
      ]
     },
     "metadata": {
      "needs_background": "light"
     },
     "output_type": "display_data"
    }
   ],
   "source": [
    "# Initialize mesher with sphere function\n",
    "m = Mesher(func=beal_function2)\n",
    "d = Designer(limits=[(-4.5,4.5), (-4.5,4.5), (-1,1)], label=['x-axis', 'y-axis', 'z-axis'])\n",
    "# Make animation\n",
    "animation = plot_contour(pos_history=optimizer.pos_history,\n",
    "                         mesher=m, designer=d,\n",
    "                         mark=(3,0.5))"
   ]
  },
  {
   "cell_type": "code",
   "execution_count": 11,
   "id": "8c907a66",
   "metadata": {},
   "outputs": [
    {
     "name": "stderr",
     "output_type": "stream",
     "text": [
      "2021-11-25 21:08:15,315 - matplotlib.animation - WARNING - MovieWriter ffmpeg unavailable; using Pillow instead.\n",
      "2021-11-25 21:08:15,316 - matplotlib.animation - INFO - Animation.save using <class 'matplotlib.animation.PillowWriter'>\n"
     ]
    }
   ],
   "source": [
    "animation.save(\"Beale function swarm of particles.gif\")"
   ]
  },
  {
   "cell_type": "markdown",
   "id": "38e6afc2",
   "metadata": {},
   "source": [
    "# Вычисление мат ожидания и дисперсии путем 100 прогонов"
   ]
  },
  {
   "cell_type": "code",
   "execution_count": 21,
   "id": "6b527030",
   "metadata": {},
   "outputs": [],
   "source": [
    "my_list = []"
   ]
  },
  {
   "cell_type": "code",
   "execution_count": 22,
   "id": "3dbcbc43",
   "metadata": {},
   "outputs": [
    {
     "name": "stderr",
     "output_type": "stream",
     "text": [
      "2021-11-25 21:20:23,775 - pyswarms.single.global_best - INFO - Optimize for 100 iters with {'c1': 0.5, 'c2': 0.3, 'w': 0.9}\n"
     ]
    },
    {
     "name": "stdout",
     "output_type": "stream",
     "text": [
      "Шаг номер  0\n"
     ]
    },
    {
     "name": "stderr",
     "output_type": "stream",
     "text": [
      "pyswarms.single.global_best: 100%|██████████████████████████████████████████████████████████|100/100, best_cost=5.65e-6\n",
      "2021-11-25 21:20:23,830 - pyswarms.single.global_best - INFO - Optimization finished | best cost: 5.64741400347674e-06, best pos: [2.99463815 0.49845655]\n",
      "2021-11-25 21:20:23,834 - pyswarms.single.global_best - INFO - Optimize for 100 iters with {'c1': 0.5, 'c2': 0.3, 'w': 0.9}\n"
     ]
    },
    {
     "name": "stdout",
     "output_type": "stream",
     "text": [
      "Наименьшее значение функции:  5.64741400347674e-06\n",
      "Время выполнения: 0.05485224723815918\n",
      "Шаг номер  1\n"
     ]
    },
    {
     "name": "stderr",
     "output_type": "stream",
     "text": [
      "pyswarms.single.global_best: 100%|██████████████████████████████████████████████████████████|100/100, best_cost=1.39e-5\n",
      "2021-11-25 21:20:23,889 - pyswarms.single.global_best - INFO - Optimization finished | best cost: 1.3871748780499874e-05, best pos: [3.00529688 0.50194661]\n",
      "2021-11-25 21:20:23,894 - pyswarms.single.global_best - INFO - Optimize for 100 iters with {'c1': 0.5, 'c2': 0.3, 'w': 0.9}\n"
     ]
    },
    {
     "name": "stdout",
     "output_type": "stream",
     "text": [
      "Наименьшее значение функции:  1.3871748780499874e-05\n",
      "Время выполнения: 0.05585169792175293\n",
      "Шаг номер  2\n"
     ]
    },
    {
     "name": "stderr",
     "output_type": "stream",
     "text": [
      "pyswarms.single.global_best: 100%|█████████████████████████████████████████████████████████|100/100, best_cost=0.000748\n",
      "2021-11-25 21:20:23,945 - pyswarms.single.global_best - INFO - Optimization finished | best cost: 0.0007477496113235702, best pos: [2.93428622 0.48284443]\n",
      "2021-11-25 21:20:23,950 - pyswarms.single.global_best - INFO - Optimize for 100 iters with {'c1': 0.5, 'c2': 0.3, 'w': 0.9}\n"
     ]
    },
    {
     "name": "stdout",
     "output_type": "stream",
     "text": [
      "Наименьшее значение функции:  0.0007477496113235702\n",
      "Время выполнения: 0.05285835266113281\n",
      "Шаг номер  3\n"
     ]
    },
    {
     "name": "stderr",
     "output_type": "stream",
     "text": [
      "pyswarms.single.global_best: 100%|██████████████████████████████████████████████████████████|100/100, best_cost=1.85e-5\n",
      "2021-11-25 21:20:24,006 - pyswarms.single.global_best - INFO - Optimization finished | best cost: 1.8538006585038797e-05, best pos: [2.98955996 0.49759766]\n",
      "2021-11-25 21:20:24,012 - pyswarms.single.global_best - INFO - Optimize for 100 iters with {'c1': 0.5, 'c2': 0.3, 'w': 0.9}\n"
     ]
    },
    {
     "name": "stdout",
     "output_type": "stream",
     "text": [
      "Наименьшее значение функции:  1.8538006585038797e-05\n",
      "Время выполнения: 0.05684804916381836\n",
      "Шаг номер  4\n"
     ]
    },
    {
     "name": "stderr",
     "output_type": "stream",
     "text": [
      "pyswarms.single.global_best: 100%|█████████████████████████████████████████████████████████|100/100, best_cost=0.000482\n",
      "2021-11-25 21:20:24,088 - pyswarms.single.global_best - INFO - Optimization finished | best cost: 0.0004815880191928783, best pos: [3.05630088 0.51320644]\n",
      "2021-11-25 21:20:24,094 - pyswarms.single.global_best - INFO - Optimize for 100 iters with {'c1': 0.5, 'c2': 0.3, 'w': 0.9}\n"
     ]
    },
    {
     "name": "stdout",
     "output_type": "stream",
     "text": [
      "Наименьшее значение функции:  0.0004815880191928783\n",
      "Время выполнения: 0.07583045959472656\n",
      "Шаг номер  5\n"
     ]
    },
    {
     "name": "stderr",
     "output_type": "stream",
     "text": [
      "pyswarms.single.global_best: 100%|██████████████████████████████████████████████████████████|100/100, best_cost=2.55e-7\n",
      "2021-11-25 21:20:24,155 - pyswarms.single.global_best - INFO - Optimization finished | best cost: 2.551636254273762e-07, best pos: [3.00036039 0.50019013]\n",
      "2021-11-25 21:20:24,165 - pyswarms.single.global_best - INFO - Optimize for 100 iters with {'c1': 0.5, 'c2': 0.3, 'w': 0.9}\n"
     ]
    },
    {
     "name": "stdout",
     "output_type": "stream",
     "text": [
      "Наименьшее значение функции:  2.551636254273762e-07\n",
      "Время выполнения: 0.06183505058288574\n",
      "Шаг номер  6\n"
     ]
    },
    {
     "name": "stderr",
     "output_type": "stream",
     "text": [
      "pyswarms.single.global_best: 100%|███████████████████████████████████████████████████████████|100/100, best_cost=1.2e-5\n",
      "2021-11-25 21:20:24,226 - pyswarms.single.global_best - INFO - Optimization finished | best cost: 1.19917253270525e-05, best pos: [2.99197872 0.49773939]\n",
      "2021-11-25 21:20:24,235 - pyswarms.single.global_best - INFO - Optimize for 100 iters with {'c1': 0.5, 'c2': 0.3, 'w': 0.9}\n"
     ]
    },
    {
     "name": "stdout",
     "output_type": "stream",
     "text": [
      "Наименьшее значение функции:  1.19917253270525e-05\n",
      "Время выполнения: 0.06183362007141113\n",
      "Шаг номер  7\n"
     ]
    },
    {
     "name": "stderr",
     "output_type": "stream",
     "text": [
      "pyswarms.single.global_best: 100%|██████████████████████████████████████████████████████████|100/100, best_cost=1.16e-6\n",
      "2021-11-25 21:20:24,295 - pyswarms.single.global_best - INFO - Optimization finished | best cost: 1.1571790764969748e-06, best pos: [3.0017464  0.50060295]\n",
      "2021-11-25 21:20:24,304 - pyswarms.single.global_best - INFO - Optimize for 100 iters with {'c1': 0.5, 'c2': 0.3, 'w': 0.9}\n"
     ]
    },
    {
     "name": "stdout",
     "output_type": "stream",
     "text": [
      "Наименьшее значение функции:  1.1571790764969748e-06\n",
      "Время выполнения: 0.06083846092224121\n",
      "Шаг номер  8\n"
     ]
    },
    {
     "name": "stderr",
     "output_type": "stream",
     "text": [
      "pyswarms.single.global_best: 100%|██████████████████████████████████████████████████████████|100/100, best_cost=3.12e-5\n",
      "2021-11-25 21:20:24,362 - pyswarms.single.global_best - INFO - Optimization finished | best cost: 3.11534394242595e-05, best pos: [2.98648227 0.49637506]\n",
      "2021-11-25 21:20:24,370 - pyswarms.single.global_best - INFO - Optimize for 100 iters with {'c1': 0.5, 'c2': 0.3, 'w': 0.9}\n"
     ]
    },
    {
     "name": "stdout",
     "output_type": "stream",
     "text": [
      "Наименьшее значение функции:  3.11534394242595e-05\n",
      "Время выполнения: 0.05884361267089844\n",
      "Шаг номер  9\n"
     ]
    },
    {
     "name": "stderr",
     "output_type": "stream",
     "text": [
      "pyswarms.single.global_best: 100%|████████████████████████████████████████████████████████████|100/100, best_cost=0.802\n",
      "2021-11-25 21:20:24,432 - pyswarms.single.global_best - INFO - Optimization finished | best cost: 0.801633180133472, best pos: [-3.93910711  1.20891931]\n",
      "2021-11-25 21:20:24,440 - pyswarms.single.global_best - INFO - Optimize for 100 iters with {'c1': 0.5, 'c2': 0.3, 'w': 0.9}\n"
     ]
    },
    {
     "name": "stdout",
     "output_type": "stream",
     "text": [
      "Наименьшее значение функции:  0.801633180133472\n",
      "Время выполнения: 0.06176948547363281\n",
      "Шаг номер  10\n"
     ]
    },
    {
     "name": "stderr",
     "output_type": "stream",
     "text": [
      "pyswarms.single.global_best: 100%|██████████████████████████████████████████████████████████|100/100, best_cost=5.23e-7\n",
      "2021-11-25 21:20:24,498 - pyswarms.single.global_best - INFO - Optimization finished | best cost: 5.231396679845807e-07, best pos: [2.99820131 0.49956726]\n",
      "2021-11-25 21:20:24,509 - pyswarms.single.global_best - INFO - Optimize for 100 iters with {'c1': 0.5, 'c2': 0.3, 'w': 0.9}\n"
     ]
    },
    {
     "name": "stdout",
     "output_type": "stream",
     "text": [
      "Наименьшее значение функции:  5.231396679845807e-07\n",
      "Время выполнения: 0.05884242057800293\n",
      "Шаг номер  11\n"
     ]
    },
    {
     "name": "stderr",
     "output_type": "stream",
     "text": [
      "pyswarms.single.global_best: 100%|█████████████████████████████████████████████████████████|100/100, best_cost=0.000405\n",
      "2021-11-25 21:20:24,569 - pyswarms.single.global_best - INFO - Optimization finished | best cost: 0.00040468487855186883, best pos: [2.9604804  0.48747165]\n",
      "2021-11-25 21:20:24,581 - pyswarms.single.global_best - INFO - Optimize for 100 iters with {'c1': 0.5, 'c2': 0.3, 'w': 0.9}\n"
     ]
    },
    {
     "name": "stdout",
     "output_type": "stream",
     "text": [
      "Наименьшее значение функции:  0.00040468487855186883\n",
      "Время выполнения: 0.06084156036376953\n",
      "Шаг номер  12\n"
     ]
    },
    {
     "name": "stderr",
     "output_type": "stream",
     "text": [
      "pyswarms.single.global_best: 100%|██████████████████████████████████████████████████████████|100/100, best_cost=9.61e-6\n",
      "2021-11-25 21:20:24,645 - pyswarms.single.global_best - INFO - Optimization finished | best cost: 9.610219318400549e-06, best pos: [2.99810059 0.50015491]\n",
      "2021-11-25 21:20:24,653 - pyswarms.single.global_best - INFO - Optimize for 100 iters with {'c1': 0.5, 'c2': 0.3, 'w': 0.9}\n"
     ]
    },
    {
     "name": "stdout",
     "output_type": "stream",
     "text": [
      "Наименьшее значение функции:  9.610219318400549e-06\n",
      "Время выполнения: 0.06382942199707031\n",
      "Шаг номер  13\n"
     ]
    },
    {
     "name": "stderr",
     "output_type": "stream",
     "text": [
      "pyswarms.single.global_best: 100%|██████████████████████████████████████████████████████████|100/100, best_cost=2.47e-6\n",
      "2021-11-25 21:20:24,707 - pyswarms.single.global_best - INFO - Optimization finished | best cost: 2.4666752245951524e-06, best pos: [2.99943034 0.50018233]\n",
      "2021-11-25 21:20:24,712 - pyswarms.single.global_best - INFO - Optimize for 100 iters with {'c1': 0.5, 'c2': 0.3, 'w': 0.9}\n"
     ]
    },
    {
     "name": "stdout",
     "output_type": "stream",
     "text": [
      "Наименьшее значение функции:  2.4666752245951524e-06\n",
      "Время выполнения: 0.05488848686218262\n",
      "Шаг номер  14\n"
     ]
    },
    {
     "name": "stderr",
     "output_type": "stream",
     "text": [
      "pyswarms.single.global_best: 100%|██████████████████████████████████████████████████████████|100/100, best_cost=9.34e-6\n",
      "2021-11-25 21:20:24,767 - pyswarms.single.global_best - INFO - Optimization finished | best cost: 9.340977421192914e-06, best pos: [2.99355448 0.49805731]\n",
      "2021-11-25 21:20:24,772 - pyswarms.single.global_best - INFO - Optimize for 100 iters with {'c1': 0.5, 'c2': 0.3, 'w': 0.9}\n"
     ]
    },
    {
     "name": "stdout",
     "output_type": "stream",
     "text": [
      "Наименьшее значение функции:  9.340977421192914e-06\n",
      "Время выполнения: 0.05485415458679199\n",
      "Шаг номер  15\n"
     ]
    },
    {
     "name": "stderr",
     "output_type": "stream",
     "text": [
      "pyswarms.single.global_best: 100%|██████████████████████████████████████████████████████████|100/100, best_cost=1.11e-6\n",
      "2021-11-25 21:20:24,829 - pyswarms.single.global_best - INFO - Optimization finished | best cost: 1.1097353061460637e-06, best pos: [2.99749524 0.49944511]\n",
      "2021-11-25 21:20:24,834 - pyswarms.single.global_best - INFO - Optimize for 100 iters with {'c1': 0.5, 'c2': 0.3, 'w': 0.9}\n"
     ]
    },
    {
     "name": "stdout",
     "output_type": "stream",
     "text": [
      "Наименьшее значение функции:  1.1097353061460637e-06\n",
      "Время выполнения: 0.05649161338806152\n",
      "Шаг номер  16\n"
     ]
    },
    {
     "name": "stderr",
     "output_type": "stream",
     "text": [
      "pyswarms.single.global_best: 100%|█████████████████████████████████████████████████████████████|100/100, best_cost=1e-5\n",
      "2021-11-25 21:20:24,886 - pyswarms.single.global_best - INFO - Optimization finished | best cost: 1.0000161571100804e-05, best pos: [3.00386846 0.50038433]\n",
      "2021-11-25 21:20:24,891 - pyswarms.single.global_best - INFO - Optimize for 100 iters with {'c1': 0.5, 'c2': 0.3, 'w': 0.9}\n"
     ]
    },
    {
     "name": "stdout",
     "output_type": "stream",
     "text": [
      "Наименьшее значение функции:  1.0000161571100804e-05\n",
      "Время выполнения: 0.05285763740539551\n",
      "Шаг номер  17\n"
     ]
    },
    {
     "name": "stderr",
     "output_type": "stream",
     "text": [
      "pyswarms.single.global_best: 100%|██████████████████████████████████████████████████████████|100/100, best_cost=1.62e-6\n",
      "2021-11-25 21:20:24,945 - pyswarms.single.global_best - INFO - Optimization finished | best cost: 1.6176069706124458e-06, best pos: [3.00260142 0.50049196]\n",
      "2021-11-25 21:20:24,950 - pyswarms.single.global_best - INFO - Optimize for 100 iters with {'c1': 0.5, 'c2': 0.3, 'w': 0.9}\n"
     ]
    },
    {
     "name": "stdout",
     "output_type": "stream",
     "text": [
      "Наименьшее значение функции:  1.6176069706124458e-06\n",
      "Время выполнения: 0.05385994911193848\n",
      "Шаг номер  18\n"
     ]
    },
    {
     "name": "stderr",
     "output_type": "stream",
     "text": [
      "pyswarms.single.global_best: 100%|██████████████████████████████████████████████████████████|100/100, best_cost=3.97e-7\n",
      "2021-11-25 21:20:25,025 - pyswarms.single.global_best - INFO - Optimization finished | best cost: 3.970696346427454e-07, best pos: [2.99884436 0.49980245]\n",
      "2021-11-25 21:20:25,030 - pyswarms.single.global_best - INFO - Optimize for 100 iters with {'c1': 0.5, 'c2': 0.3, 'w': 0.9}\n"
     ]
    },
    {
     "name": "stdout",
     "output_type": "stream",
     "text": [
      "Наименьшее значение функции:  3.970696346427454e-07\n",
      "Время выполнения: 0.07579731941223145\n",
      "Шаг номер  19\n"
     ]
    },
    {
     "name": "stderr",
     "output_type": "stream",
     "text": [
      "pyswarms.single.global_best: 100%|██████████████████████████████████████████████████████████|100/100, best_cost=4.98e-6\n",
      "2021-11-25 21:20:25,084 - pyswarms.single.global_best - INFO - Optimization finished | best cost: 4.976365403486952e-06, best pos: [2.99700979 0.49965009]\n",
      "2021-11-25 21:20:25,089 - pyswarms.single.global_best - INFO - Optimize for 100 iters with {'c1': 0.5, 'c2': 0.3, 'w': 0.9}\n"
     ]
    },
    {
     "name": "stdout",
     "output_type": "stream",
     "text": [
      "Наименьшее значение функции:  4.976365403486952e-06\n",
      "Время выполнения: 0.053855180740356445\n",
      "Шаг номер  20\n"
     ]
    },
    {
     "name": "stderr",
     "output_type": "stream",
     "text": [
      "pyswarms.single.global_best: 100%|█████████████████████████████████████████████████████████|100/100, best_cost=0.000171\n",
      "2021-11-25 21:20:25,162 - pyswarms.single.global_best - INFO - Optimization finished | best cost: 0.00017068222593732318, best pos: [2.99706524 0.50198014]\n",
      "2021-11-25 21:20:25,168 - pyswarms.single.global_best - INFO - Optimize for 100 iters with {'c1': 0.5, 'c2': 0.3, 'w': 0.9}\n"
     ]
    },
    {
     "name": "stdout",
     "output_type": "stream",
     "text": [
      "Наименьшее значение функции:  0.00017068222593732318\n",
      "Время выполнения: 0.07331180572509766\n",
      "Шаг номер  21\n"
     ]
    },
    {
     "name": "stderr",
     "output_type": "stream",
     "text": [
      "pyswarms.single.global_best: 100%|██████████████████████████████████████████████████████████|100/100, best_cost=4.52e-5\n",
      "2021-11-25 21:20:25,222 - pyswarms.single.global_best - INFO - Optimization finished | best cost: 4.516193509589141e-05, best pos: [2.9854544  0.49568164]\n",
      "2021-11-25 21:20:25,228 - pyswarms.single.global_best - INFO - Optimize for 100 iters with {'c1': 0.5, 'c2': 0.3, 'w': 0.9}\n"
     ]
    },
    {
     "name": "stdout",
     "output_type": "stream",
     "text": [
      "Наименьшее значение функции:  4.516193509589141e-05\n",
      "Время выполнения: 0.05385637283325195\n",
      "Шаг номер  22\n"
     ]
    },
    {
     "name": "stderr",
     "output_type": "stream",
     "text": [
      "pyswarms.single.global_best: 100%|███████████████████████████████████████████████████████████|100/100, best_cost=2.6e-6\n",
      "2021-11-25 21:20:25,292 - pyswarms.single.global_best - INFO - Optimization finished | best cost: 2.601721639600774e-06, best pos: [3.00240788 0.50086557]\n",
      "2021-11-25 21:20:25,300 - pyswarms.single.global_best - INFO - Optimize for 100 iters with {'c1': 0.5, 'c2': 0.3, 'w': 0.9}\n"
     ]
    },
    {
     "name": "stdout",
     "output_type": "stream",
     "text": [
      "Наименьшее значение функции:  2.601721639600774e-06\n",
      "Время выполнения: 0.06482577323913574\n",
      "Шаг номер  23\n"
     ]
    },
    {
     "name": "stderr",
     "output_type": "stream",
     "text": [
      "pyswarms.single.global_best: 100%|███████████████████████████████████████████████████████████|100/100, best_cost=3.7e-6\n",
      "2021-11-25 21:20:25,355 - pyswarms.single.global_best - INFO - Optimization finished | best cost: 3.6996151671777822e-06, best pos: [3.00424783 0.50086285]\n",
      "2021-11-25 21:20:25,364 - pyswarms.single.global_best - INFO - Optimize for 100 iters with {'c1': 0.5, 'c2': 0.3, 'w': 0.9}\n"
     ]
    },
    {
     "name": "stdout",
     "output_type": "stream",
     "text": [
      "Наименьшее значение функции:  3.6996151671777822e-06\n",
      "Время выполнения: 0.05585169792175293\n",
      "Шаг номер  24\n"
     ]
    },
    {
     "name": "stderr",
     "output_type": "stream",
     "text": [
      "pyswarms.single.global_best: 100%|██████████████████████████████████████████████████████████|100/100, best_cost=7.09e-7\n",
      "2021-11-25 21:20:25,421 - pyswarms.single.global_best - INFO - Optimization finished | best cost: 7.09097813166865e-07, best pos: [2.9989316  0.49958378]\n",
      "2021-11-25 21:20:25,431 - pyswarms.single.global_best - INFO - Optimize for 100 iters with {'c1': 0.5, 'c2': 0.3, 'w': 0.9}\n"
     ]
    },
    {
     "name": "stdout",
     "output_type": "stream",
     "text": [
      "Наименьшее значение функции:  7.09097813166865e-07\n",
      "Время выполнения: 0.056847333908081055\n",
      "Шаг номер  25\n"
     ]
    },
    {
     "name": "stderr",
     "output_type": "stream",
     "text": [
      "pyswarms.single.global_best: 100%|██████████████████████████████████████████████████████████|100/100, best_cost=9.42e-5\n",
      "2021-11-25 21:20:25,489 - pyswarms.single.global_best - INFO - Optimization finished | best cost: 9.419310502192635e-05, best pos: [3.02368615 0.50528493]\n",
      "2021-11-25 21:20:25,502 - pyswarms.single.global_best - INFO - Optimize for 100 iters with {'c1': 0.5, 'c2': 0.3, 'w': 0.9}\n"
     ]
    },
    {
     "name": "stdout",
     "output_type": "stream",
     "text": [
      "Наименьшее значение функции:  9.419310502192635e-05\n",
      "Время выполнения: 0.059839487075805664\n",
      "Шаг номер  26\n"
     ]
    },
    {
     "name": "stderr",
     "output_type": "stream",
     "text": [
      "pyswarms.single.global_best: 100%|██████████████████████████████████████████████████████████|100/100, best_cost=0.00305\n",
      "2021-11-25 21:20:25,564 - pyswarms.single.global_best - INFO - Optimization finished | best cost: 0.0030479730091534157, best pos: [3.11537201 0.53382654]\n",
      "2021-11-25 21:20:25,571 - pyswarms.single.global_best - INFO - Optimize for 100 iters with {'c1': 0.5, 'c2': 0.3, 'w': 0.9}\n"
     ]
    },
    {
     "name": "stdout",
     "output_type": "stream",
     "text": [
      "Наименьшее значение функции:  0.0030479730091534157\n",
      "Время выполнения: 0.06283235549926758\n",
      "Шаг номер  27\n"
     ]
    },
    {
     "name": "stderr",
     "output_type": "stream",
     "text": [
      "pyswarms.single.global_best: 100%|█████████████████████████████████████████████████████████|100/100, best_cost=0.000364\n",
      "2021-11-25 21:20:25,625 - pyswarms.single.global_best - INFO - Optimization finished | best cost: 0.00036378721856031293, best pos: [2.95540567 0.48989527]\n",
      "2021-11-25 21:20:25,630 - pyswarms.single.global_best - INFO - Optimize for 100 iters with {'c1': 0.5, 'c2': 0.3, 'w': 0.9}\n"
     ]
    },
    {
     "name": "stdout",
     "output_type": "stream",
     "text": [
      "Наименьшее значение функции:  0.00036378721856031293\n",
      "Время выполнения: 0.054852962493896484\n",
      "Шаг номер  28\n"
     ]
    },
    {
     "name": "stderr",
     "output_type": "stream",
     "text": [
      "pyswarms.single.global_best: 100%|███████████████████████████████████████████████████████████|100/100, best_cost=9.6e-6\n",
      "2021-11-25 21:20:25,686 - pyswarms.single.global_best - INFO - Optimization finished | best cost: 9.59691108077966e-06, best pos: [3.00754639 0.5017107 ]\n",
      "2021-11-25 21:20:25,691 - pyswarms.single.global_best - INFO - Optimize for 100 iters with {'c1': 0.5, 'c2': 0.3, 'w': 0.9}\n"
     ]
    },
    {
     "name": "stdout",
     "output_type": "stream",
     "text": [
      "Наименьшее значение функции:  9.59691108077966e-06\n",
      "Время выполнения: 0.05585122108459473\n",
      "Шаг номер  29\n"
     ]
    },
    {
     "name": "stderr",
     "output_type": "stream",
     "text": [
      "pyswarms.single.global_best: 100%|██████████████████████████████████████████████████████████|100/100, best_cost=0.00305\n",
      "2021-11-25 21:20:25,746 - pyswarms.single.global_best - INFO - Optimization finished | best cost: 0.003047083933525015, best pos: [2.87393982 0.46947822]\n",
      "2021-11-25 21:20:25,751 - pyswarms.single.global_best - INFO - Optimize for 100 iters with {'c1': 0.5, 'c2': 0.3, 'w': 0.9}\n"
     ]
    },
    {
     "name": "stdout",
     "output_type": "stream",
     "text": [
      "Наименьшее значение функции:  0.003047083933525015\n",
      "Время выполнения: 0.05485200881958008\n",
      "Шаг номер  30\n"
     ]
    },
    {
     "name": "stderr",
     "output_type": "stream",
     "text": [
      "pyswarms.single.global_best: 100%|██████████████████████████████████████████████████████████|100/100, best_cost=2.95e-6\n",
      "2021-11-25 21:20:25,809 - pyswarms.single.global_best - INFO - Optimization finished | best cost: 2.9511241812200206e-06, best pos: [2.99575075 0.49898992]\n",
      "2021-11-25 21:20:25,814 - pyswarms.single.global_best - INFO - Optimize for 100 iters with {'c1': 0.5, 'c2': 0.3, 'w': 0.9}\n"
     ]
    },
    {
     "name": "stdout",
     "output_type": "stream",
     "text": [
      "Наименьшее значение функции:  2.9511241812200206e-06\n",
      "Время выполнения: 0.0578465461730957\n",
      "Шаг номер  31\n"
     ]
    },
    {
     "name": "stderr",
     "output_type": "stream",
     "text": [
      "pyswarms.single.global_best: 100%|██████████████████████████████████████████████████████████|100/100, best_cost=4.21e-6\n",
      "2021-11-25 21:20:25,882 - pyswarms.single.global_best - INFO - Optimization finished | best cost: 4.2147177379539005e-06, best pos: [3.00500712 0.50133725]\n",
      "2021-11-25 21:20:25,887 - pyswarms.single.global_best - INFO - Optimize for 100 iters with {'c1': 0.5, 'c2': 0.3, 'w': 0.9}\n"
     ]
    },
    {
     "name": "stdout",
     "output_type": "stream",
     "text": [
      "Наименьшее значение функции:  4.2147177379539005e-06\n",
      "Время выполнения: 0.06881546974182129\n",
      "Шаг номер  32\n"
     ]
    },
    {
     "name": "stderr",
     "output_type": "stream",
     "text": [
      "pyswarms.single.global_best: 100%|█████████████████████████████████████████████████████████████|100/100, best_cost=2e-6\n",
      "2021-11-25 21:20:25,942 - pyswarms.single.global_best - INFO - Optimization finished | best cost: 2.00181211510369e-06, best pos: [2.99769495 0.49920426]\n",
      "2021-11-25 21:20:25,948 - pyswarms.single.global_best - INFO - Optimize for 100 iters with {'c1': 0.5, 'c2': 0.3, 'w': 0.9}\n"
     ]
    },
    {
     "name": "stdout",
     "output_type": "stream",
     "text": [
      "Наименьшее значение функции:  2.00181211510369e-06\n",
      "Время выполнения: 0.055849552154541016\n",
      "Шаг номер  33\n"
     ]
    },
    {
     "name": "stderr",
     "output_type": "stream",
     "text": [
      "pyswarms.single.global_best: 100%|██████████████████████████████████████████████████████████|100/100, best_cost=9.78e-6\n",
      "2021-11-25 21:20:26,004 - pyswarms.single.global_best - INFO - Optimization finished | best cost: 9.776024620368431e-06, best pos: [2.99304279 0.49856334]\n",
      "2021-11-25 21:20:26,010 - pyswarms.single.global_best - INFO - Optimize for 100 iters with {'c1': 0.5, 'c2': 0.3, 'w': 0.9}\n"
     ]
    },
    {
     "name": "stdout",
     "output_type": "stream",
     "text": [
      "Наименьшее значение функции:  9.776024620368431e-06\n",
      "Время выполнения: 0.0578460693359375\n",
      "Шаг номер  34\n"
     ]
    },
    {
     "name": "stderr",
     "output_type": "stream",
     "text": [
      "pyswarms.single.global_best: 100%|█████████████████████████████████████████████████████████|100/100, best_cost=0.000207\n",
      "2021-11-25 21:20:26,084 - pyswarms.single.global_best - INFO - Optimization finished | best cost: 0.0002069706161096352, best pos: [2.96626866 0.49061711]\n",
      "2021-11-25 21:20:26,089 - pyswarms.single.global_best - INFO - Optimize for 100 iters with {'c1': 0.5, 'c2': 0.3, 'w': 0.9}\n"
     ]
    },
    {
     "name": "stdout",
     "output_type": "stream",
     "text": [
      "Наименьшее значение функции:  0.0002069706161096352\n",
      "Время выполнения: 0.0738065242767334\n",
      "Шаг номер  35\n"
     ]
    },
    {
     "name": "stderr",
     "output_type": "stream",
     "text": [
      "pyswarms.single.global_best: 100%|██████████████████████████████████████████████████████████|100/100, best_cost=1.98e-6\n",
      "2021-11-25 21:20:26,141 - pyswarms.single.global_best - INFO - Optimization finished | best cost: 1.9823863657123706e-06, best pos: [2.99651992 0.499096  ]\n",
      "2021-11-25 21:20:26,147 - pyswarms.single.global_best - INFO - Optimize for 100 iters with {'c1': 0.5, 'c2': 0.3, 'w': 0.9}\n"
     ]
    },
    {
     "name": "stdout",
     "output_type": "stream",
     "text": [
      "Наименьшее значение функции:  1.9823863657123706e-06\n",
      "Время выполнения: 0.05278277397155762\n",
      "Шаг номер  36\n"
     ]
    },
    {
     "name": "stderr",
     "output_type": "stream",
     "text": [
      "pyswarms.single.global_best: 100%|██████████████████████████████████████████████████████████|100/100, best_cost=1.66e-5\n",
      "2021-11-25 21:20:26,222 - pyswarms.single.global_best - INFO - Optimization finished | best cost: 1.6567375998020925e-05, best pos: [3.00872409 0.50259456]\n",
      "2021-11-25 21:20:26,228 - pyswarms.single.global_best - INFO - Optimize for 100 iters with {'c1': 0.5, 'c2': 0.3, 'w': 0.9}\n"
     ]
    },
    {
     "name": "stdout",
     "output_type": "stream",
     "text": [
      "Наименьшее значение функции:  1.6567375998020925e-05\n",
      "Время выполнения: 0.07579779624938965\n",
      "Шаг номер  37\n"
     ]
    },
    {
     "name": "stderr",
     "output_type": "stream",
     "text": [
      "pyswarms.single.global_best: 100%|████████████████████████████████████████████████████████████|100/100, best_cost=0.879\n",
      "2021-11-25 21:20:26,284 - pyswarms.single.global_best - INFO - Optimization finished | best cost: 0.8786070465981002, best pos: [-3.15454051  1.24922121]\n",
      "2021-11-25 21:20:26,290 - pyswarms.single.global_best - INFO - Optimize for 100 iters with {'c1': 0.5, 'c2': 0.3, 'w': 0.9}\n"
     ]
    },
    {
     "name": "stdout",
     "output_type": "stream",
     "text": [
      "Наименьшее значение функции:  0.8786070465981002\n",
      "Время выполнения: 0.05585050582885742\n",
      "Шаг номер  38\n"
     ]
    },
    {
     "name": "stderr",
     "output_type": "stream",
     "text": [
      "pyswarms.single.global_best: 100%|██████████████████████████████████████████████████████████|100/100, best_cost=5.92e-5\n",
      "2021-11-25 21:20:26,353 - pyswarms.single.global_best - INFO - Optimization finished | best cost: 5.920911735459589e-05, best pos: [3.01247575 0.5042916 ]\n",
      "2021-11-25 21:20:26,360 - pyswarms.single.global_best - INFO - Optimize for 100 iters with {'c1': 0.5, 'c2': 0.3, 'w': 0.9}\n"
     ]
    },
    {
     "name": "stdout",
     "output_type": "stream",
     "text": [
      "Наименьшее значение функции:  5.920911735459589e-05\n",
      "Время выполнения: 0.06265759468078613\n",
      "Шаг номер  39\n"
     ]
    },
    {
     "name": "stderr",
     "output_type": "stream",
     "text": [
      "pyswarms.single.global_best: 100%|████████████████████████████████████████████████████████████|100/100, best_cost=0.791\n",
      "2021-11-25 21:20:26,413 - pyswarms.single.global_best - INFO - Optimization finished | best cost: 0.7906654459009179, best pos: [-4.08218898  1.20223697]\n",
      "2021-11-25 21:20:26,421 - pyswarms.single.global_best - INFO - Optimize for 100 iters with {'c1': 0.5, 'c2': 0.3, 'w': 0.9}\n"
     ]
    },
    {
     "name": "stdout",
     "output_type": "stream",
     "text": [
      "Наименьшее значение функции:  0.7906654459009179\n",
      "Время выполнения: 0.052857160568237305\n",
      "Шаг номер  40\n"
     ]
    },
    {
     "name": "stderr",
     "output_type": "stream",
     "text": [
      "pyswarms.single.global_best: 100%|██████████████████████████████████████████████████████████|100/100, best_cost=2.35e-6\n",
      "2021-11-25 21:20:26,481 - pyswarms.single.global_best - INFO - Optimization finished | best cost: 2.347128732074411e-06, best pos: [2.99638693 0.49899851]\n",
      "2021-11-25 21:20:26,488 - pyswarms.single.global_best - INFO - Optimize for 100 iters with {'c1': 0.5, 'c2': 0.3, 'w': 0.9}\n"
     ]
    },
    {
     "name": "stdout",
     "output_type": "stream",
     "text": [
      "Наименьшее значение функции:  2.347128732074411e-06\n",
      "Время выполнения: 0.05984187126159668\n",
      "Шаг номер  41\n"
     ]
    },
    {
     "name": "stderr",
     "output_type": "stream",
     "text": [
      "pyswarms.single.global_best: 100%|██████████████████████████████████████████████████████████|100/100, best_cost=4.79e-6\n",
      "2021-11-25 21:20:26,542 - pyswarms.single.global_best - INFO - Optimization finished | best cost: 4.7887228904485635e-06, best pos: [2.99994964 0.50044301]\n",
      "2021-11-25 21:20:26,553 - pyswarms.single.global_best - INFO - Optimize for 100 iters with {'c1': 0.5, 'c2': 0.3, 'w': 0.9}\n"
     ]
    },
    {
     "name": "stdout",
     "output_type": "stream",
     "text": [
      "Наименьшее значение функции:  4.7887228904485635e-06\n",
      "Время выполнения: 0.05485367774963379\n",
      "Шаг номер  42\n"
     ]
    },
    {
     "name": "stderr",
     "output_type": "stream",
     "text": [
      "pyswarms.single.global_best: 100%|██████████████████████████████████████████████████████████|100/100, best_cost=3.67e-6\n",
      "2021-11-25 21:20:26,617 - pyswarms.single.global_best - INFO - Optimization finished | best cost: 3.6711112407629992e-06, best pos: [3.0046553  0.50105474]\n",
      "2021-11-25 21:20:26,631 - pyswarms.single.global_best - INFO - Optimize for 100 iters with {'c1': 0.5, 'c2': 0.3, 'w': 0.9}\n"
     ]
    },
    {
     "name": "stdout",
     "output_type": "stream",
     "text": [
      "Наименьшее значение функции:  3.6711112407629992e-06\n",
      "Время выполнения: 0.06483054161071777\n",
      "Шаг номер  43\n"
     ]
    },
    {
     "name": "stderr",
     "output_type": "stream",
     "text": [
      "pyswarms.single.global_best: 100%|███████████████████████████████████████████████████████████|100/100, best_cost=2.2e-5\n",
      "2021-11-25 21:20:26,688 - pyswarms.single.global_best - INFO - Optimization finished | best cost: 2.2018552630670424e-05, best pos: [2.99535067 0.4997437 ]\n",
      "2021-11-25 21:20:26,693 - pyswarms.single.global_best - INFO - Optimize for 100 iters with {'c1': 0.5, 'c2': 0.3, 'w': 0.9}\n"
     ]
    },
    {
     "name": "stdout",
     "output_type": "stream",
     "text": [
      "Наименьшее значение функции:  2.2018552630670424e-05\n",
      "Время выполнения: 0.05684828758239746\n",
      "Шаг номер  44\n"
     ]
    },
    {
     "name": "stderr",
     "output_type": "stream",
     "text": [
      "pyswarms.single.global_best: 100%|██████████████████████████████████████████████████████████|100/100, best_cost=5.69e-9\n",
      "2021-11-25 21:20:26,748 - pyswarms.single.global_best - INFO - Optimization finished | best cost: 5.693383283580695e-09, best pos: [2.99985767 0.49997501]\n",
      "2021-11-25 21:20:26,752 - pyswarms.single.global_best - INFO - Optimize for 100 iters with {'c1': 0.5, 'c2': 0.3, 'w': 0.9}\n"
     ]
    },
    {
     "name": "stdout",
     "output_type": "stream",
     "text": [
      "Наименьшее значение функции:  5.693383283580695e-09\n",
      "Время выполнения: 0.05485343933105469\n",
      "Шаг номер  45\n"
     ]
    },
    {
     "name": "stderr",
     "output_type": "stream",
     "text": [
      "pyswarms.single.global_best: 100%|██████████████████████████████████████████████████████████|100/100, best_cost=2.09e-8\n",
      "2021-11-25 21:20:26,804 - pyswarms.single.global_best - INFO - Optimization finished | best cost: 2.0940243094788303e-08, best pos: [2.9999807 0.5000253]\n",
      "2021-11-25 21:20:26,809 - pyswarms.single.global_best - INFO - Optimize for 100 iters with {'c1': 0.5, 'c2': 0.3, 'w': 0.9}\n"
     ]
    },
    {
     "name": "stdout",
     "output_type": "stream",
     "text": [
      "Наименьшее значение функции:  2.0940243094788303e-08\n",
      "Время выполнения: 0.05285811424255371\n",
      "Шаг номер  46\n"
     ]
    },
    {
     "name": "stderr",
     "output_type": "stream",
     "text": [
      "pyswarms.single.global_best: 100%|█████████████████████████████████████████████████████████|100/100, best_cost=0.000173\n",
      "2021-11-25 21:20:26,863 - pyswarms.single.global_best - INFO - Optimization finished | best cost: 0.00017275678044991713, best pos: [3.00429336 0.49835098]\n"
     ]
    },
    {
     "name": "stdout",
     "output_type": "stream",
     "text": [
      "Наименьшее значение функции:  0.00017275678044991713\n",
      "Время выполнения: 0.05485415458679199\n",
      "Шаг номер  47\n"
     ]
    },
    {
     "name": "stderr",
     "output_type": "stream",
     "text": [
      "2021-11-25 21:20:26,868 - pyswarms.single.global_best - INFO - Optimize for 100 iters with {'c1': 0.5, 'c2': 0.3, 'w': 0.9}\n",
      "pyswarms.single.global_best: 100%|██████████████████████████████████████████████████████████|100/100, best_cost=2.67e-6\n",
      "2021-11-25 21:20:26,939 - pyswarms.single.global_best - INFO - Optimization finished | best cost: 2.6658997555572107e-06, best pos: [2.99599904 0.49906968]\n",
      "2021-11-25 21:20:26,945 - pyswarms.single.global_best - INFO - Optimize for 100 iters with {'c1': 0.5, 'c2': 0.3, 'w': 0.9}\n"
     ]
    },
    {
     "name": "stdout",
     "output_type": "stream",
     "text": [
      "Наименьшее значение функции:  2.6658997555572107e-06\n",
      "Время выполнения: 0.07081127166748047\n",
      "Шаг номер  48\n"
     ]
    },
    {
     "name": "stderr",
     "output_type": "stream",
     "text": [
      "pyswarms.single.global_best: 100%|██████████████████████████████████████████████████████████|100/100, best_cost=2.73e-6\n",
      "2021-11-25 21:20:26,999 - pyswarms.single.global_best - INFO - Optimization finished | best cost: 2.72872363233213e-06, best pos: [3.00185068 0.50076566]\n",
      "2021-11-25 21:20:27,005 - pyswarms.single.global_best - INFO - Optimize for 100 iters with {'c1': 0.5, 'c2': 0.3, 'w': 0.9}\n"
     ]
    },
    {
     "name": "stdout",
     "output_type": "stream",
     "text": [
      "Наименьшее значение функции:  2.72872363233213e-06\n",
      "Время выполнения: 0.05385589599609375\n",
      "Шаг номер  49\n"
     ]
    },
    {
     "name": "stderr",
     "output_type": "stream",
     "text": [
      "pyswarms.single.global_best: 100%|██████████████████████████████████████████████████████████|100/100, best_cost=1.69e-5\n",
      "2021-11-25 21:20:27,073 - pyswarms.single.global_best - INFO - Optimization finished | best cost: 1.6939757729267916e-05, best pos: [3.00949521 0.5026826 ]\n",
      "2021-11-25 21:20:27,080 - pyswarms.single.global_best - INFO - Optimize for 100 iters with {'c1': 0.5, 'c2': 0.3, 'w': 0.9}\n"
     ]
    },
    {
     "name": "stdout",
     "output_type": "stream",
     "text": [
      "Наименьшее значение функции:  1.6939757729267916e-05\n",
      "Время выполнения: 0.06881523132324219\n",
      "Шаг номер  50\n"
     ]
    },
    {
     "name": "stderr",
     "output_type": "stream",
     "text": [
      "pyswarms.single.global_best: 100%|████████████████████████████████████████████████████████████|100/100, best_cost=0.865\n",
      "2021-11-25 21:20:27,137 - pyswarms.single.global_best - INFO - Optimization finished | best cost: 0.8650641959162102, best pos: [-3.28132188  1.24568929]\n",
      "2021-11-25 21:20:27,147 - pyswarms.single.global_best - INFO - Optimize for 100 iters with {'c1': 0.5, 'c2': 0.3, 'w': 0.9}\n"
     ]
    },
    {
     "name": "stdout",
     "output_type": "stream",
     "text": [
      "Наименьшее значение функции:  0.8650641959162102\n",
      "Время выполнения: 0.056847333908081055\n",
      "Шаг номер  51\n"
     ]
    },
    {
     "name": "stderr",
     "output_type": "stream",
     "text": [
      "pyswarms.single.global_best: 100%|██████████████████████████████████████████████████████████|100/100, best_cost=4.31e-5\n",
      "2021-11-25 21:20:27,206 - pyswarms.single.global_best - INFO - Optimization finished | best cost: 4.3148902824503546e-05, best pos: [3.01346694 0.50410734]\n",
      "2021-11-25 21:20:27,216 - pyswarms.single.global_best - INFO - Optimize for 100 iters with {'c1': 0.5, 'c2': 0.3, 'w': 0.9}\n"
     ]
    },
    {
     "name": "stdout",
     "output_type": "stream",
     "text": [
      "Наименьшее значение функции:  4.3148902824503546e-05\n",
      "Время выполнения: 0.05984067916870117\n",
      "Шаг номер  52\n"
     ]
    },
    {
     "name": "stderr",
     "output_type": "stream",
     "text": [
      "pyswarms.single.global_best: 100%|██████████████████████████████████████████████████████████|100/100, best_cost=3.42e-6\n",
      "2021-11-25 21:20:27,283 - pyswarms.single.global_best - INFO - Optimization finished | best cost: 3.4211681927877705e-06, best pos: [3.00419006 0.50120121]\n",
      "2021-11-25 21:20:27,294 - pyswarms.single.global_best - INFO - Optimize for 100 iters with {'c1': 0.5, 'c2': 0.3, 'w': 0.9}\n"
     ]
    },
    {
     "name": "stdout",
     "output_type": "stream",
     "text": [
      "Наименьшее значение функции:  3.4211681927877705e-06\n",
      "Время выполнения: 0.06740832328796387\n",
      "Шаг номер  53\n"
     ]
    },
    {
     "name": "stderr",
     "output_type": "stream",
     "text": [
      "pyswarms.single.global_best: 100%|██████████████████████████████████████████████████████████|100/100, best_cost=0.00705\n",
      "2021-11-25 21:20:27,349 - pyswarms.single.global_best - INFO - Optimization finished | best cost: 0.007049475833480632, best pos: [2.87591659 0.48217416]\n",
      "2021-11-25 21:20:27,354 - pyswarms.single.global_best - INFO - Optimize for 100 iters with {'c1': 0.5, 'c2': 0.3, 'w': 0.9}\n"
     ]
    },
    {
     "name": "stdout",
     "output_type": "stream",
     "text": [
      "Наименьшее значение функции:  0.007049475833480632\n",
      "Время выполнения: 0.054857492446899414\n",
      "Шаг номер  54\n"
     ]
    },
    {
     "name": "stderr",
     "output_type": "stream",
     "text": [
      "pyswarms.single.global_best: 100%|█████████████████████████████████████████████████████████|100/100, best_cost=0.000603\n",
      "2021-11-25 21:20:27,409 - pyswarms.single.global_best - INFO - Optimization finished | best cost: 0.0006034183576948591, best pos: [3.06007011 0.51611093]\n",
      "2021-11-25 21:20:27,414 - pyswarms.single.global_best - INFO - Optimize for 100 iters with {'c1': 0.5, 'c2': 0.3, 'w': 0.9}\n"
     ]
    },
    {
     "name": "stdout",
     "output_type": "stream",
     "text": [
      "Наименьшее значение функции:  0.0006034183576948591\n",
      "Время выполнения: 0.0562896728515625\n",
      "Шаг номер  55\n"
     ]
    },
    {
     "name": "stderr",
     "output_type": "stream",
     "text": [
      "pyswarms.single.global_best: 100%|███████████████████████████████████████████████████████████|100/100, best_cost=0.0108\n",
      "2021-11-25 21:20:27,470 - pyswarms.single.global_best - INFO - Optimization finished | best cost: 0.010787449192896974, best pos: [3.30412114 0.56733774]\n",
      "2021-11-25 21:20:27,475 - pyswarms.single.global_best - INFO - Optimize for 100 iters with {'c1': 0.5, 'c2': 0.3, 'w': 0.9}\n"
     ]
    },
    {
     "name": "stdout",
     "output_type": "stream",
     "text": [
      "Наименьшее значение функции:  0.010787449192896974\n",
      "Время выполнения: 0.05585122108459473\n",
      "Шаг номер  56\n"
     ]
    },
    {
     "name": "stderr",
     "output_type": "stream",
     "text": [
      "pyswarms.single.global_best: 100%|██████████████████████████████████████████████████████████|100/100, best_cost=0.00081\n",
      "2021-11-25 21:20:27,530 - pyswarms.single.global_best - INFO - Optimization finished | best cost: 0.0008099423355595542, best pos: [2.93422475 0.48498598]\n",
      "2021-11-25 21:20:27,534 - pyswarms.single.global_best - INFO - Optimize for 100 iters with {'c1': 0.5, 'c2': 0.3, 'w': 0.9}\n"
     ]
    },
    {
     "name": "stdout",
     "output_type": "stream",
     "text": [
      "Наименьшее значение функции:  0.0008099423355595542\n",
      "Время выполнения: 0.05485367774963379\n",
      "Шаг номер  57\n"
     ]
    },
    {
     "name": "stderr",
     "output_type": "stream",
     "text": [
      "pyswarms.single.global_best: 100%|██████████████████████████████████████████████████████████|100/100, best_cost=1.85e-7\n",
      "2021-11-25 21:20:27,591 - pyswarms.single.global_best - INFO - Optimization finished | best cost: 1.851920694867639e-07, best pos: [3.000608   0.50007682]\n",
      "2021-11-25 21:20:27,595 - pyswarms.single.global_best - INFO - Optimize for 100 iters with {'c1': 0.5, 'c2': 0.3, 'w': 0.9}\n"
     ]
    },
    {
     "name": "stdout",
     "output_type": "stream",
     "text": [
      "Наименьшее значение функции:  1.851920694867639e-07\n",
      "Время выполнения: 0.05684781074523926\n",
      "Шаг номер  58\n"
     ]
    },
    {
     "name": "stderr",
     "output_type": "stream",
     "text": [
      "pyswarms.single.global_best: 100%|█████████████████████████████████████████████████████████|100/100, best_cost=0.000207\n",
      "2021-11-25 21:20:27,671 - pyswarms.single.global_best - INFO - Optimization finished | best cost: 0.00020743641194401153, best pos: [3.03575894 0.50807222]\n",
      "2021-11-25 21:20:27,676 - pyswarms.single.global_best - INFO - Optimize for 100 iters with {'c1': 0.5, 'c2': 0.3, 'w': 0.9}\n"
     ]
    },
    {
     "name": "stdout",
     "output_type": "stream",
     "text": [
      "Наименьшее значение функции:  0.00020743641194401153\n",
      "Время выполнения: 0.07579731941223145\n",
      "Шаг номер  59\n"
     ]
    },
    {
     "name": "stderr",
     "output_type": "stream",
     "text": [
      "pyswarms.single.global_best: 100%|█████████████████████████████████████████████████████████|100/100, best_cost=0.000218\n",
      "2021-11-25 21:20:27,733 - pyswarms.single.global_best - INFO - Optimization finished | best cost: 0.0002182820669360302, best pos: [3.03724024 0.50955746]\n",
      "2021-11-25 21:20:27,738 - pyswarms.single.global_best - INFO - Optimize for 100 iters with {'c1': 0.5, 'c2': 0.3, 'w': 0.9}\n"
     ]
    },
    {
     "name": "stdout",
     "output_type": "stream",
     "text": [
      "Наименьшее значение функции:  0.0002182820669360302\n",
      "Время выполнения: 0.056847572326660156\n",
      "Шаг номер  60\n"
     ]
    },
    {
     "name": "stderr",
     "output_type": "stream",
     "text": [
      "pyswarms.single.global_best: 100%|██████████████████████████████████████████████████████████|100/100, best_cost=5.15e-7\n",
      "2021-11-25 21:20:27,790 - pyswarms.single.global_best - INFO - Optimization finished | best cost: 5.151055538752888e-07, best pos: [3.00138249 0.50043786]\n",
      "2021-11-25 21:20:27,795 - pyswarms.single.global_best - INFO - Optimize for 100 iters with {'c1': 0.5, 'c2': 0.3, 'w': 0.9}\n"
     ]
    },
    {
     "name": "stdout",
     "output_type": "stream",
     "text": [
      "Наименьшее значение функции:  5.151055538752888e-07\n",
      "Время выполнения: 0.052858829498291016\n",
      "Шаг номер  61\n"
     ]
    },
    {
     "name": "stderr",
     "output_type": "stream",
     "text": [
      "pyswarms.single.global_best: 100%|███████████████████████████████████████████████████████████|100/100, best_cost=8.4e-6\n",
      "2021-11-25 21:20:27,869 - pyswarms.single.global_best - INFO - Optimization finished | best cost: 8.397362526954824e-06, best pos: [2.99335224 0.49811113]\n",
      "2021-11-25 21:20:27,873 - pyswarms.single.global_best - INFO - Optimize for 100 iters with {'c1': 0.5, 'c2': 0.3, 'w': 0.9}\n"
     ]
    },
    {
     "name": "stdout",
     "output_type": "stream",
     "text": [
      "Наименьшее значение функции:  8.397362526954824e-06\n",
      "Время выполнения: 0.07479596138000488\n",
      "Шаг номер  62\n"
     ]
    },
    {
     "name": "stderr",
     "output_type": "stream",
     "text": [
      "pyswarms.single.global_best: 100%|██████████████████████████████████████████████████████████|100/100, best_cost=4.48e-6\n",
      "2021-11-25 21:20:27,929 - pyswarms.single.global_best - INFO - Optimization finished | best cost: 4.483339126347954e-06, best pos: [3.00504708 0.50138478]\n",
      "2021-11-25 21:20:27,933 - pyswarms.single.global_best - INFO - Optimize for 100 iters with {'c1': 0.5, 'c2': 0.3, 'w': 0.9}\n"
     ]
    },
    {
     "name": "stdout",
     "output_type": "stream",
     "text": [
      "Наименьшее значение функции:  4.483339126347954e-06\n",
      "Время выполнения: 0.05585122108459473\n",
      "Шаг номер  63\n"
     ]
    },
    {
     "name": "stderr",
     "output_type": "stream",
     "text": [
      "pyswarms.single.global_best: 100%|███████████████████████████████████████████████████████████|100/100, best_cost=2.5e-6\n",
      "2021-11-25 21:20:28,005 - pyswarms.single.global_best - INFO - Optimization finished | best cost: 2.498188774994717e-06, best pos: [2.99606192 0.49903667]\n",
      "2021-11-25 21:20:28,015 - pyswarms.single.global_best - INFO - Optimize for 100 iters with {'c1': 0.5, 'c2': 0.3, 'w': 0.9}\n"
     ]
    },
    {
     "name": "stdout",
     "output_type": "stream",
     "text": [
      "Наименьшее значение функции:  2.498188774994717e-06\n",
      "Время выполнения: 0.07180976867675781\n",
      "Шаг номер  64\n"
     ]
    },
    {
     "name": "stderr",
     "output_type": "stream",
     "text": [
      "pyswarms.single.global_best: 100%|██████████████████████████████████████████████████████████|100/100, best_cost=0.00387\n",
      "2021-11-25 21:20:28,078 - pyswarms.single.global_best - INFO - Optimization finished | best cost: 0.003871485413829619, best pos: [3.17039062 0.53911507]\n",
      "2021-11-25 21:20:28,087 - pyswarms.single.global_best - INFO - Optimize for 100 iters with {'c1': 0.5, 'c2': 0.3, 'w': 0.9}\n"
     ]
    },
    {
     "name": "stdout",
     "output_type": "stream",
     "text": [
      "Наименьшее значение функции:  0.003871485413829619\n",
      "Время выполнения: 0.06383013725280762\n",
      "Шаг номер  65\n"
     ]
    },
    {
     "name": "stderr",
     "output_type": "stream",
     "text": [
      "pyswarms.single.global_best: 100%|███████████████████████████████████████████████████████████|100/100, best_cost=6.4e-5\n",
      "2021-11-25 21:20:28,147 - pyswarms.single.global_best - INFO - Optimization finished | best cost: 6.398771070947908e-05, best pos: [3.02016349 0.50507944]\n",
      "2021-11-25 21:20:28,154 - pyswarms.single.global_best - INFO - Optimize for 100 iters with {'c1': 0.5, 'c2': 0.3, 'w': 0.9}\n"
     ]
    },
    {
     "name": "stdout",
     "output_type": "stream",
     "text": [
      "Наименьшее значение функции:  6.398771070947908e-05\n",
      "Время выполнения: 0.06136608123779297\n",
      "Шаг номер  66\n"
     ]
    },
    {
     "name": "stderr",
     "output_type": "stream",
     "text": [
      "pyswarms.single.global_best: 100%|██████████████████████████████████████████████████████████|100/100, best_cost=1.47e-5\n",
      "2021-11-25 21:20:28,210 - pyswarms.single.global_best - INFO - Optimization finished | best cost: 1.47149047565965e-05, best pos: [3.00780688 0.50146426]\n",
      "2021-11-25 21:20:28,217 - pyswarms.single.global_best - INFO - Optimize for 100 iters with {'c1': 0.5, 'c2': 0.3, 'w': 0.9}\n"
     ]
    },
    {
     "name": "stdout",
     "output_type": "stream",
     "text": [
      "Наименьшее значение функции:  1.47149047565965e-05\n",
      "Время выполнения: 0.05635690689086914\n",
      "Шаг номер  67\n"
     ]
    },
    {
     "name": "stderr",
     "output_type": "stream",
     "text": [
      "pyswarms.single.global_best: 100%|██████████████████████████████████████████████████████████|100/100, best_cost=8.72e-5\n",
      "2021-11-25 21:20:28,278 - pyswarms.single.global_best - INFO - Optimization finished | best cost: 8.721486114973433e-05, best pos: [3.01789058 0.50565336]\n",
      "2021-11-25 21:20:28,287 - pyswarms.single.global_best - INFO - Optimize for 100 iters with {'c1': 0.5, 'c2': 0.3, 'w': 0.9}\n"
     ]
    },
    {
     "name": "stdout",
     "output_type": "stream",
     "text": [
      "Наименьшее значение функции:  8.721486114973433e-05\n",
      "Время выполнения: 0.06183457374572754\n",
      "Шаг номер  68\n"
     ]
    },
    {
     "name": "stderr",
     "output_type": "stream",
     "text": [
      "pyswarms.single.global_best: 100%|██████████████████████████████████████████████████████████|100/100, best_cost=8.62e-6\n",
      "2021-11-25 21:20:28,348 - pyswarms.single.global_best - INFO - Optimization finished | best cost: 8.621277898804293e-06, best pos: [3.00384744 0.50147201]\n",
      "2021-11-25 21:20:28,358 - pyswarms.single.global_best - INFO - Optimize for 100 iters with {'c1': 0.5, 'c2': 0.3, 'w': 0.9}\n"
     ]
    },
    {
     "name": "stdout",
     "output_type": "stream",
     "text": [
      "Наименьшее значение функции:  8.621277898804293e-06\n",
      "Время выполнения: 0.06183457374572754\n",
      "Шаг номер  69\n"
     ]
    },
    {
     "name": "stderr",
     "output_type": "stream",
     "text": [
      "pyswarms.single.global_best: 100%|██████████████████████████████████████████████████████████|100/100, best_cost=1.61e-6\n",
      "2021-11-25 21:20:28,417 - pyswarms.single.global_best - INFO - Optimization finished | best cost: 1.6072669916537771e-06, best pos: [2.99869347 0.49991649]\n",
      "2021-11-25 21:20:28,427 - pyswarms.single.global_best - INFO - Optimize for 100 iters with {'c1': 0.5, 'c2': 0.3, 'w': 0.9}\n"
     ]
    },
    {
     "name": "stdout",
     "output_type": "stream",
     "text": [
      "Наименьшее значение функции:  1.6072669916537771e-06\n",
      "Время выполнения: 0.05983924865722656\n",
      "Шаг номер  70\n"
     ]
    },
    {
     "name": "stderr",
     "output_type": "stream",
     "text": [
      "pyswarms.single.global_best: 100%|███████████████████████████████████████████████████████████|100/100, best_cost=0.0335\n",
      "2021-11-25 21:20:28,488 - pyswarms.single.global_best - INFO - Optimization finished | best cost: 0.03353774588487503, best pos: [3.01217558 0.46396421]\n",
      "2021-11-25 21:20:28,498 - pyswarms.single.global_best - INFO - Optimize for 100 iters with {'c1': 0.5, 'c2': 0.3, 'w': 0.9}\n"
     ]
    },
    {
     "name": "stdout",
     "output_type": "stream",
     "text": [
      "Наименьшее значение функции:  0.03353774588487503\n",
      "Время выполнения: 0.061835527420043945\n",
      "Шаг номер  71\n"
     ]
    },
    {
     "name": "stderr",
     "output_type": "stream",
     "text": [
      "pyswarms.single.global_best: 100%|███████████████████████████████████████████████████████████|100/100, best_cost=0.0161\n",
      "2021-11-25 21:20:28,559 - pyswarms.single.global_best - INFO - Optimization finished | best cost: 0.01614075775710647, best pos: [3.38265122 0.57815915]\n",
      "2021-11-25 21:20:28,564 - pyswarms.single.global_best - INFO - Optimize for 100 iters with {'c1': 0.5, 'c2': 0.3, 'w': 0.9}\n"
     ]
    },
    {
     "name": "stdout",
     "output_type": "stream",
     "text": [
      "Наименьшее значение функции:  0.01614075775710647\n",
      "Время выполнения: 0.06183433532714844\n",
      "Шаг номер  72\n"
     ]
    },
    {
     "name": "stderr",
     "output_type": "stream",
     "text": [
      "pyswarms.single.global_best: 100%|███████████████████████████████████████████████████████████|100/100, best_cost=2.5e-5\n",
      "2021-11-25 21:20:28,619 - pyswarms.single.global_best - INFO - Optimization finished | best cost: 2.4955362479212174e-05, best pos: [2.9883341  0.49744981]\n",
      "2021-11-25 21:20:28,626 - pyswarms.single.global_best - INFO - Optimize for 100 iters with {'c1': 0.5, 'c2': 0.3, 'w': 0.9}\n"
     ]
    },
    {
     "name": "stdout",
     "output_type": "stream",
     "text": [
      "Наименьшее значение функции:  2.4955362479212174e-05\n",
      "Время выполнения: 0.05585026741027832\n",
      "Шаг номер  73\n"
     ]
    },
    {
     "name": "stderr",
     "output_type": "stream",
     "text": [
      "pyswarms.single.global_best: 100%|██████████████████████████████████████████████████████████|100/100, best_cost=3.73e-6\n",
      "2021-11-25 21:20:28,681 - pyswarms.single.global_best - INFO - Optimization finished | best cost: 3.731492921555131e-06, best pos: [2.99970336 0.49952474]\n",
      "2021-11-25 21:20:28,686 - pyswarms.single.global_best - INFO - Optimize for 100 iters with {'c1': 0.5, 'c2': 0.3, 'w': 0.9}\n"
     ]
    },
    {
     "name": "stdout",
     "output_type": "stream",
     "text": [
      "Наименьшее значение функции:  3.731492921555131e-06\n",
      "Время выполнения: 0.05585026741027832\n",
      "Шаг номер  74\n"
     ]
    },
    {
     "name": "stderr",
     "output_type": "stream",
     "text": [
      "pyswarms.single.global_best: 100%|██████████████████████████████████████████████████████████|100/100, best_cost=4.94e-6\n",
      "2021-11-25 21:20:28,741 - pyswarms.single.global_best - INFO - Optimization finished | best cost: 4.940789884703526e-06, best pos: [3.00397783 0.50130767]\n"
     ]
    },
    {
     "name": "stdout",
     "output_type": "stream",
     "text": [
      "Наименьшее значение функции:  4.940789884703526e-06\n",
      "Время выполнения: 0.05485248565673828\n",
      "Шаг номер  75\n"
     ]
    },
    {
     "name": "stderr",
     "output_type": "stream",
     "text": [
      "2021-11-25 21:20:28,746 - pyswarms.single.global_best - INFO - Optimize for 100 iters with {'c1': 0.5, 'c2': 0.3, 'w': 0.9}\n",
      "pyswarms.single.global_best: 100%|████████████████████████████████████████████████████████████|100/100, best_cost=0.795\n",
      "2021-11-25 21:20:28,801 - pyswarms.single.global_best - INFO - Optimization finished | best cost: 0.7950956406717608, best pos: [-4.02980136  1.20370204]\n"
     ]
    },
    {
     "name": "stdout",
     "output_type": "stream",
     "text": [
      "Наименьшее значение функции:  0.7950956406717608\n",
      "Время выполнения: 0.05585002899169922\n",
      "Шаг номер  76\n"
     ]
    },
    {
     "name": "stderr",
     "output_type": "stream",
     "text": [
      "2021-11-25 21:20:28,806 - pyswarms.single.global_best - INFO - Optimize for 100 iters with {'c1': 0.5, 'c2': 0.3, 'w': 0.9}\n",
      "pyswarms.single.global_best: 100%|████████████████████████████████████████████████████████████|100/100, best_cost=0.781\n",
      "2021-11-25 21:20:28,875 - pyswarms.single.global_best - INFO - Optimization finished | best cost: 0.7812572835965973, best pos: [-4.21166869  1.19756454]\n",
      "2021-11-25 21:20:28,882 - pyswarms.single.global_best - INFO - Optimize for 100 iters with {'c1': 0.5, 'c2': 0.3, 'w': 0.9}\n"
     ]
    },
    {
     "name": "stdout",
     "output_type": "stream",
     "text": [
      "Наименьшее значение функции:  0.7812572835965973\n",
      "Время выполнения: 0.06881403923034668\n",
      "Шаг номер  77\n"
     ]
    },
    {
     "name": "stderr",
     "output_type": "stream",
     "text": [
      "pyswarms.single.global_best: 100%|██████████████████████████████████████████████████████████|100/100, best_cost=6.94e-7\n",
      "2021-11-25 21:20:28,938 - pyswarms.single.global_best - INFO - Optimization finished | best cost: 6.941029261573933e-07, best pos: [2.998493   0.49950633]\n",
      "2021-11-25 21:20:28,946 - pyswarms.single.global_best - INFO - Optimize for 100 iters with {'c1': 0.5, 'c2': 0.3, 'w': 0.9}\n"
     ]
    },
    {
     "name": "stdout",
     "output_type": "stream",
     "text": [
      "Наименьшее значение функции:  6.941029261573933e-07\n",
      "Время выполнения: 0.05585026741027832\n",
      "Шаг номер  78\n"
     ]
    },
    {
     "name": "stderr",
     "output_type": "stream",
     "text": [
      "pyswarms.single.global_best: 100%|█████████████████████████████████████████████████████████████|100/100, best_cost=9e-5\n",
      "2021-11-25 21:20:29,009 - pyswarms.single.global_best - INFO - Optimization finished | best cost: 8.996423813397911e-05, best pos: [3.02356843 0.50541278]\n",
      "2021-11-25 21:20:29,020 - pyswarms.single.global_best - INFO - Optimize for 100 iters with {'c1': 0.5, 'c2': 0.3, 'w': 0.9}\n"
     ]
    },
    {
     "name": "stdout",
     "output_type": "stream",
     "text": [
      "Наименьшее значение функции:  8.996423813397911e-05\n",
      "Время выполнения: 0.06283187866210938\n",
      "Шаг номер  79\n"
     ]
    },
    {
     "name": "stderr",
     "output_type": "stream",
     "text": [
      "pyswarms.single.global_best: 100%|███████████████████████████████████████████████████████████|100/100, best_cost=2.1e-5\n",
      "2021-11-25 21:20:29,086 - pyswarms.single.global_best - INFO - Optimization finished | best cost: 2.09849680907808e-05, best pos: [2.988799   0.49704023]\n",
      "2021-11-25 21:20:29,095 - pyswarms.single.global_best - INFO - Optimize for 100 iters with {'c1': 0.5, 'c2': 0.3, 'w': 0.9}\n"
     ]
    },
    {
     "name": "stdout",
     "output_type": "stream",
     "text": [
      "Наименьшее значение функции:  2.09849680907808e-05\n",
      "Время выполнения: 0.06682038307189941\n",
      "Шаг номер  80\n"
     ]
    },
    {
     "name": "stderr",
     "output_type": "stream",
     "text": [
      "pyswarms.single.global_best: 100%|██████████████████████████████████████████████████████████|100/100, best_cost=1.18e-5\n",
      "2021-11-25 21:20:29,152 - pyswarms.single.global_best - INFO - Optimization finished | best cost: 1.1795981252560283e-05, best pos: [2.99501184 0.49934348]\n",
      "2021-11-25 21:20:29,157 - pyswarms.single.global_best - INFO - Optimize for 100 iters with {'c1': 0.5, 'c2': 0.3, 'w': 0.9}\n"
     ]
    },
    {
     "name": "stdout",
     "output_type": "stream",
     "text": [
      "Наименьшее значение функции:  1.1795981252560283e-05\n",
      "Время выполнения: 0.05684781074523926\n",
      "Шаг номер  81\n"
     ]
    },
    {
     "name": "stderr",
     "output_type": "stream",
     "text": [
      "pyswarms.single.global_best: 100%|██████████████████████████████████████████████████████████|100/100, best_cost=0.00106\n",
      "2021-11-25 21:20:29,210 - pyswarms.single.global_best - INFO - Optimization finished | best cost: 0.0010632814875969313, best pos: [2.92200693 0.48013919]\n",
      "2021-11-25 21:20:29,215 - pyswarms.single.global_best - INFO - Optimize for 100 iters with {'c1': 0.5, 'c2': 0.3, 'w': 0.9}\n"
     ]
    },
    {
     "name": "stdout",
     "output_type": "stream",
     "text": [
      "Наименьшее значение функции:  0.0010632814875969313\n",
      "Время выполнения: 0.05385613441467285\n",
      "Шаг номер  82\n"
     ]
    },
    {
     "name": "stderr",
     "output_type": "stream",
     "text": [
      "pyswarms.single.global_best: 100%|██████████████████████████████████████████████████████████|100/100, best_cost=6.13e-6\n",
      "2021-11-25 21:20:29,267 - pyswarms.single.global_best - INFO - Optimization finished | best cost: 6.133052671370162e-06, best pos: [2.99594154 0.49860202]\n"
     ]
    },
    {
     "name": "stdout",
     "output_type": "stream",
     "text": [
      "Наименьшее значение функции:  6.133052671370162e-06\n",
      "Время выполнения: 0.05285811424255371\n",
      "Шаг номер  83\n"
     ]
    },
    {
     "name": "stderr",
     "output_type": "stream",
     "text": [
      "2021-11-25 21:20:29,273 - pyswarms.single.global_best - INFO - Optimize for 100 iters with {'c1': 0.5, 'c2': 0.3, 'w': 0.9}\n",
      "pyswarms.single.global_best: 100%|██████████████████████████████████████████████████████████|100/100, best_cost=2.46e-6\n",
      "2021-11-25 21:20:29,331 - pyswarms.single.global_best - INFO - Optimization finished | best cost: 2.458897646874462e-06, best pos: [2.99613142 0.4990873 ]\n"
     ]
    },
    {
     "name": "stdout",
     "output_type": "stream",
     "text": [
      "Наименьшее значение функции:  2.458897646874462e-06\n",
      "Время выполнения: 0.05884575843811035\n",
      "Шаг номер  84\n"
     ]
    },
    {
     "name": "stderr",
     "output_type": "stream",
     "text": [
      "2021-11-25 21:20:29,339 - pyswarms.single.global_best - INFO - Optimize for 100 iters with {'c1': 0.5, 'c2': 0.3, 'w': 0.9}\n",
      "pyswarms.single.global_best: 100%|██████████████████████████████████████████████████████████|100/100, best_cost=5.76e-6\n",
      "2021-11-25 21:20:29,397 - pyswarms.single.global_best - INFO - Optimization finished | best cost: 5.759541233514475e-06, best pos: [2.99482062 0.49896372]\n"
     ]
    },
    {
     "name": "stdout",
     "output_type": "stream",
     "text": [
      "Наименьшее значение функции:  5.759541233514475e-06\n",
      "Время выполнения: 0.05983996391296387\n",
      "Шаг номер  85\n"
     ]
    },
    {
     "name": "stderr",
     "output_type": "stream",
     "text": [
      "2021-11-25 21:20:29,407 - pyswarms.single.global_best - INFO - Optimize for 100 iters with {'c1': 0.5, 'c2': 0.3, 'w': 0.9}\n",
      "pyswarms.single.global_best: 100%|██████████████████████████████████████████████████████████|100/100, best_cost=1.31e-6\n",
      "2021-11-25 21:20:29,471 - pyswarms.single.global_best - INFO - Optimization finished | best cost: 1.3142144999088683e-06, best pos: [2.99713912 0.49929009]\n",
      "2021-11-25 21:20:29,484 - pyswarms.single.global_best - INFO - Optimize for 100 iters with {'c1': 0.5, 'c2': 0.3, 'w': 0.9}\n"
     ]
    },
    {
     "name": "stdout",
     "output_type": "stream",
     "text": [
      "Наименьшее значение функции:  1.3142144999088683e-06\n",
      "Время выполнения: 0.06482601165771484\n",
      "Шаг номер  86\n"
     ]
    },
    {
     "name": "stderr",
     "output_type": "stream",
     "text": [
      "pyswarms.single.global_best: 100%|█████████████████████████████████████████████████████████|100/100, best_cost=0.000117\n",
      "2021-11-25 21:20:29,547 - pyswarms.single.global_best - INFO - Optimization finished | best cost: 0.00011710963643464664, best pos: [2.97737704 0.49311965]\n",
      "2021-11-25 21:20:29,552 - pyswarms.single.global_best - INFO - Optimize for 100 iters with {'c1': 0.5, 'c2': 0.3, 'w': 0.9}\n"
     ]
    },
    {
     "name": "stdout",
     "output_type": "stream",
     "text": [
      "Наименьшее значение функции:  0.00011710963643464664\n",
      "Время выполнения: 0.06283164024353027\n",
      "Шаг номер  87\n"
     ]
    },
    {
     "name": "stderr",
     "output_type": "stream",
     "text": [
      "pyswarms.single.global_best: 100%|███████████████████████████████████████████████████████████|100/100, best_cost=2.8e-5\n",
      "2021-11-25 21:20:29,607 - pyswarms.single.global_best - INFO - Optimization finished | best cost: 2.803802420143949e-05, best pos: [3.01022208 0.50322493]\n",
      "2021-11-25 21:20:29,612 - pyswarms.single.global_best - INFO - Optimize for 100 iters with {'c1': 0.5, 'c2': 0.3, 'w': 0.9}\n"
     ]
    },
    {
     "name": "stdout",
     "output_type": "stream",
     "text": [
      "Наименьшее значение функции:  2.803802420143949e-05\n",
      "Время выполнения: 0.05585598945617676\n",
      "Шаг номер  88\n"
     ]
    },
    {
     "name": "stderr",
     "output_type": "stream",
     "text": [
      "pyswarms.single.global_best: 100%|█████████████████████████████████████████████████████████|100/100, best_cost=0.000386\n",
      "2021-11-25 21:20:29,669 - pyswarms.single.global_best - INFO - Optimization finished | best cost: 0.00038574045334138134, best pos: [3.04319425 0.51254967]\n",
      "2021-11-25 21:20:29,674 - pyswarms.single.global_best - INFO - Optimize for 100 iters with {'c1': 0.5, 'c2': 0.3, 'w': 0.9}\n"
     ]
    },
    {
     "name": "stdout",
     "output_type": "stream",
     "text": [
      "Наименьшее значение функции:  0.00038574045334138134\n",
      "Время выполнения: 0.056847333908081055\n",
      "Шаг номер  89\n"
     ]
    },
    {
     "name": "stderr",
     "output_type": "stream",
     "text": [
      "pyswarms.single.global_best: 100%|███████████████████████████████████████████████████████████|100/100, best_cost=0.0003\n",
      "2021-11-25 21:20:29,731 - pyswarms.single.global_best - INFO - Optimization finished | best cost: 0.00030036468265790494, best pos: [2.95976758 0.48869557]\n",
      "2021-11-25 21:20:29,737 - pyswarms.single.global_best - INFO - Optimize for 100 iters with {'c1': 0.5, 'c2': 0.3, 'w': 0.9}\n"
     ]
    },
    {
     "name": "stdout",
     "output_type": "stream",
     "text": [
      "Наименьшее значение функции:  0.00030036468265790494\n",
      "Время выполнения: 0.05884289741516113\n",
      "Шаг номер  90\n"
     ]
    },
    {
     "name": "stderr",
     "output_type": "stream",
     "text": [
      "pyswarms.single.global_best: 100%|██████████████████████████████████████████████████████████|100/100, best_cost=1.43e-5\n",
      "2021-11-25 21:20:29,795 - pyswarms.single.global_best - INFO - Optimization finished | best cost: 1.4276092764500644e-05, best pos: [2.99069226 0.49757518]\n",
      "2021-11-25 21:20:29,801 - pyswarms.single.global_best - INFO - Optimize for 100 iters with {'c1': 0.5, 'c2': 0.3, 'w': 0.9}\n"
     ]
    },
    {
     "name": "stdout",
     "output_type": "stream",
     "text": [
      "Наименьшее значение функции:  1.4276092764500644e-05\n",
      "Время выполнения: 0.0578455924987793\n",
      "Шаг номер  91\n"
     ]
    },
    {
     "name": "stderr",
     "output_type": "stream",
     "text": [
      "pyswarms.single.global_best: 100%|██████████████████████████████████████████████████████████|100/100, best_cost=0.00129\n",
      "2021-11-25 21:20:29,860 - pyswarms.single.global_best - INFO - Optimization finished | best cost: 0.0012868693466659893, best pos: [2.91455499 0.47798756]\n",
      "2021-11-25 21:20:29,868 - pyswarms.single.global_best - INFO - Optimize for 100 iters with {'c1': 0.5, 'c2': 0.3, 'w': 0.9}\n"
     ]
    },
    {
     "name": "stdout",
     "output_type": "stream",
     "text": [
      "Наименьшее значение функции:  0.0012868693466659893\n",
      "Время выполнения: 0.05884289741516113\n",
      "Шаг номер  92\n"
     ]
    },
    {
     "name": "stderr",
     "output_type": "stream",
     "text": [
      "pyswarms.single.global_best: 100%|████████████████████████████████████████████████████████████|100/100, best_cost=0.817\n",
      "2021-11-25 21:20:29,925 - pyswarms.single.global_best - INFO - Optimization finished | best cost: 0.8172620873616545, best pos: [-3.75128061  1.21723567]\n",
      "2021-11-25 21:20:29,934 - pyswarms.single.global_best - INFO - Optimize for 100 iters with {'c1': 0.5, 'c2': 0.3, 'w': 0.9}\n"
     ]
    },
    {
     "name": "stdout",
     "output_type": "stream",
     "text": [
      "Наименьшее значение функции:  0.8172620873616545\n",
      "Время выполнения: 0.057845354080200195\n",
      "Шаг номер  93\n"
     ]
    },
    {
     "name": "stderr",
     "output_type": "stream",
     "text": [
      "pyswarms.single.global_best: 100%|███████████████████████████████████████████████████████████|100/100, best_cost=6.7e-6\n",
      "2021-11-25 21:20:29,996 - pyswarms.single.global_best - INFO - Optimization finished | best cost: 6.698482960920802e-06, best pos: [3.00648007 0.50156948]\n",
      "2021-11-25 21:20:30,006 - pyswarms.single.global_best - INFO - Optimize for 100 iters with {'c1': 0.5, 'c2': 0.3, 'w': 0.9}\n"
     ]
    },
    {
     "name": "stdout",
     "output_type": "stream",
     "text": [
      "Наименьшее значение функции:  6.698482960920802e-06\n",
      "Время выполнения: 0.06283211708068848\n",
      "Шаг номер  94\n"
     ]
    },
    {
     "name": "stderr",
     "output_type": "stream",
     "text": [
      "pyswarms.single.global_best: 100%|██████████████████████████████████████████████████████████|100/100, best_cost=0.00629\n",
      "2021-11-25 21:20:30,067 - pyswarms.single.global_best - INFO - Optimization finished | best cost: 0.006288569660034738, best pos: [3.22318576 0.55060661]\n",
      "2021-11-25 21:20:30,078 - pyswarms.single.global_best - INFO - Optimize for 100 iters with {'c1': 0.5, 'c2': 0.3, 'w': 0.9}\n"
     ]
    },
    {
     "name": "stdout",
     "output_type": "stream",
     "text": [
      "Наименьшее значение функции:  0.006288569660034738\n",
      "Время выполнения: 0.06283140182495117\n",
      "Шаг номер  95\n"
     ]
    },
    {
     "name": "stderr",
     "output_type": "stream",
     "text": [
      "pyswarms.single.global_best: 100%|██████████████████████████████████████████████████████████|100/100, best_cost=9.28e-6\n",
      "2021-11-25 21:20:30,144 - pyswarms.single.global_best - INFO - Optimization finished | best cost: 9.279315342025948e-06, best pos: [3.00757873 0.50195697]\n",
      "2021-11-25 21:20:30,149 - pyswarms.single.global_best - INFO - Optimize for 100 iters with {'c1': 0.5, 'c2': 0.3, 'w': 0.9}\n"
     ]
    },
    {
     "name": "stdout",
     "output_type": "stream",
     "text": [
      "Наименьшее значение функции:  9.279315342025948e-06\n",
      "Время выполнения: 0.06682157516479492\n",
      "Шаг номер  96\n"
     ]
    },
    {
     "name": "stderr",
     "output_type": "stream",
     "text": [
      "pyswarms.single.global_best: 100%|██████████████████████████████████████████████████████████|100/100, best_cost=5.69e-5\n",
      "2021-11-25 21:20:30,205 - pyswarms.single.global_best - INFO - Optimization finished | best cost: 5.692190809329111e-05, best pos: [2.98262294 0.49507708]\n",
      "2021-11-25 21:20:30,211 - pyswarms.single.global_best - INFO - Optimize for 100 iters with {'c1': 0.5, 'c2': 0.3, 'w': 0.9}\n"
     ]
    },
    {
     "name": "stdout",
     "output_type": "stream",
     "text": [
      "Наименьшее значение функции:  5.692190809329111e-05\n",
      "Время выполнения: 0.056848764419555664\n",
      "Шаг номер  97\n"
     ]
    },
    {
     "name": "stderr",
     "output_type": "stream",
     "text": [
      "pyswarms.single.global_best: 100%|██████████████████████████████████████████████████████████|100/100, best_cost=7.52e-5\n",
      "2021-11-25 21:20:30,267 - pyswarms.single.global_best - INFO - Optimization finished | best cost: 7.515671705889122e-05, best pos: [2.98112325 0.49441449]\n",
      "2021-11-25 21:20:30,272 - pyswarms.single.global_best - INFO - Optimize for 100 iters with {'c1': 0.5, 'c2': 0.3, 'w': 0.9}\n"
     ]
    },
    {
     "name": "stdout",
     "output_type": "stream",
     "text": [
      "Наименьшее значение функции:  7.515671705889122e-05\n",
      "Время выполнения: 0.05585122108459473\n",
      "Шаг номер  98\n"
     ]
    },
    {
     "name": "stderr",
     "output_type": "stream",
     "text": [
      "pyswarms.single.global_best: 100%|██████████████████████████████████████████████████████████|100/100, best_cost=5.78e-5\n",
      "2021-11-25 21:20:30,326 - pyswarms.single.global_best - INFO - Optimization finished | best cost: 5.775677625155501e-05, best pos: [3.01914071 0.50458818]\n",
      "2021-11-25 21:20:30,331 - pyswarms.single.global_best - INFO - Optimize for 100 iters with {'c1': 0.5, 'c2': 0.3, 'w': 0.9}\n"
     ]
    },
    {
     "name": "stdout",
     "output_type": "stream",
     "text": [
      "Наименьшее значение функции:  5.775677625155501e-05\n",
      "Время выполнения: 0.054852962493896484\n",
      "Шаг номер  99\n"
     ]
    },
    {
     "name": "stderr",
     "output_type": "stream",
     "text": [
      "pyswarms.single.global_best: 100%|█████████████████████████████████████████████████████████|100/100, best_cost=0.000374\n",
      "2021-11-25 21:20:30,388 - pyswarms.single.global_best - INFO - Optimization finished | best cost: 0.0003741118379552678, best pos: [2.95304219 0.48844054]\n"
     ]
    },
    {
     "name": "stdout",
     "output_type": "stream",
     "text": [
      "Наименьшее значение функции:  0.0003741118379552678\n",
      "Время выполнения: 0.05784416198730469\n"
     ]
    }
   ],
   "source": [
    "for i in range(100):\n",
    "    print(\"Шаг номер \", i)\n",
    "    optimizer = ps.single.GlobalBestPSO(n_particles=10, \n",
    "                                        dimensions=2, \n",
    "                                        options=options, \n",
    "                                        bounds=varbound)\n",
    "    time_start = time.time()\n",
    "    stats = optimizer.optimize(beal_function2, iters=100)\n",
    "    time_end = time.time()\n",
    "    print(\"Наименьшее значение функции: \", stats[0])\n",
    "    print(\"Время выполнения: {}\".format(time_end-time_start))\n",
    "    my_list.append(stats[0])"
   ]
  },
  {
   "cell_type": "code",
   "execution_count": 23,
   "id": "6bb69cfe",
   "metadata": {},
   "outputs": [
    {
     "name": "stdout",
     "output_type": "stream",
     "text": [
      "M(X) =  0.05822360360171285\n",
      "D(X) =  0.04361142558561211\n"
     ]
    }
   ],
   "source": [
    "print(\"M(X) = \", np.mean(my_list))\n",
    "print(\"D(X) = \", np.var(my_list))"
   ]
  },
  {
   "cell_type": "markdown",
   "id": "89695974",
   "metadata": {},
   "source": [
    "**Вывод**: Значение дисперсии мало, но из-за появления вырожденных значений около 0.8 в нескольких итерациях дисперсия выросла до 0.04"
   ]
  },
  {
   "cell_type": "markdown",
   "id": "fbc91fad",
   "metadata": {},
   "source": [
    "# Выводы"
   ]
  },
  {
   "cell_type": "markdown",
   "id": "235c25ce",
   "metadata": {},
   "source": [
    "Генетический алгоритм проявил себя лучше, чем алгоритм роя частиц, его дисперсия оказалась гораздо ниже, однако в алгоритме роя частиц она могла быть также низкой в случае отсутствия вырожденных значений"
   ]
  },
  {
   "cell_type": "markdown",
   "id": "b0b5bdb6",
   "metadata": {},
   "source": [
    "Также в папке проекта лежит gif анимация того как обучался рой частиц, красным крестом отмечено финальное достигнутое значение"
   ]
  }
 ],
 "metadata": {
  "kernelspec": {
   "display_name": "Python 3 (ipykernel)",
   "language": "python",
   "name": "python3"
  },
  "language_info": {
   "codemirror_mode": {
    "name": "ipython",
    "version": 3
   },
   "file_extension": ".py",
   "mimetype": "text/x-python",
   "name": "python",
   "nbconvert_exporter": "python",
   "pygments_lexer": "ipython3",
   "version": "3.8.12"
  }
 },
 "nbformat": 4,
 "nbformat_minor": 5
}
